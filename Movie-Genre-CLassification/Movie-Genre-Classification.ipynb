{
 "cells": [
  {
   "cell_type": "markdown",
   "id": "8a76ed8e",
   "metadata": {},
   "source": [
    "# Movie Genres Classification"
   ]
  },
  {
   "cell_type": "markdown",
   "id": "8baf8bf3",
   "metadata": {},
   "source": [
    "<img src=\"./type-of-movi.jpg\">"
   ]
  },
  {
   "cell_type": "markdown",
   "id": "daa4f4b4",
   "metadata": {},
   "source": [
    "## Objective : Predicting genre of movies from first 1000 chrarcters of script."
   ]
  },
  {
   "cell_type": "code",
   "execution_count": 59,
   "id": "5432bf08",
   "metadata": {},
   "outputs": [],
   "source": [
    "#Imports\n",
    "import pandas as pd\n",
    "import numpy as np\n",
    "from tqdm import tqdm\n",
    "import matplotlib.pyplot as plt\n",
    "import matplotlib\n",
    "import seaborn as sns\n",
    "%matplotlib inline\n",
    "custom_params = {\"axes.spines.right\": False, \"axes.spines.top\": False}\n",
    "sns.set_theme(style=\"white\", rc=custom_params,palette='pastel')\n",
    "#NLP Libraries\n",
    "import nltk\n",
    "import re\n",
    "from nltk.corpus import stopwords\n",
    "from nltk.stem.porter import PorterStemmer\n",
    "from sklearn.feature_extraction.text import CountVectorizer\n",
    "# Machine Learning Libraries\n",
    "from sklearn.preprocessing import LabelEncoder\n",
    "from sklearn.metrics import accuracy_score, confusion_matrix, classification_report\n",
    "from sklearn.model_selection import train_test_split\n",
    "from sklearn.naive_bayes import MultinomialNB"
   ]
  },
  {
   "cell_type": "markdown",
   "id": "cd3e9afc",
   "metadata": {},
   "source": [
    "## Load The Dataset"
   ]
  },
  {
   "cell_type": "code",
   "execution_count": 60,
   "id": "bb410ce6",
   "metadata": {},
   "outputs": [],
   "source": [
    "df_train = pd.read_csv('movie_train.csv',index_col='id')\n",
    "df_test = pd.read_csv('movie_test.csv',index_col='id')"
   ]
  },
  {
   "cell_type": "code",
   "execution_count": 61,
   "id": "20ce81c0",
   "metadata": {},
   "outputs": [
    {
     "data": {
      "text/html": [
       "<div>\n",
       "<style scoped>\n",
       "    .dataframe tbody tr th:only-of-type {\n",
       "        vertical-align: middle;\n",
       "    }\n",
       "\n",
       "    .dataframe tbody tr th {\n",
       "        vertical-align: top;\n",
       "    }\n",
       "\n",
       "    .dataframe thead th {\n",
       "        text-align: right;\n",
       "    }\n",
       "</style>\n",
       "<table border=\"1\" class=\"dataframe\">\n",
       "  <thead>\n",
       "    <tr style=\"text-align: right;\">\n",
       "      <th></th>\n",
       "      <th>text</th>\n",
       "      <th>genre</th>\n",
       "    </tr>\n",
       "    <tr>\n",
       "      <th>id</th>\n",
       "      <th></th>\n",
       "      <th></th>\n",
       "    </tr>\n",
       "  </thead>\n",
       "  <tbody>\n",
       "    <tr>\n",
       "      <th>0</th>\n",
       "      <td>eady dead, maybe even wishing he was. INT. 2ND...</td>\n",
       "      <td>thriller</td>\n",
       "    </tr>\n",
       "    <tr>\n",
       "      <th>2</th>\n",
       "      <td>t, summa cum laude and all. And I'm about to l...</td>\n",
       "      <td>comedy</td>\n",
       "    </tr>\n",
       "    <tr>\n",
       "      <th>3</th>\n",
       "      <td>up Come, I have a surprise.... She takes him ...</td>\n",
       "      <td>drama</td>\n",
       "    </tr>\n",
       "    <tr>\n",
       "      <th>4</th>\n",
       "      <td>ded by the two detectives. INT. JEFF'S APARTME...</td>\n",
       "      <td>thriller</td>\n",
       "    </tr>\n",
       "    <tr>\n",
       "      <th>5</th>\n",
       "      <td>nd dismounts, just as the other children reach...</td>\n",
       "      <td>drama</td>\n",
       "    </tr>\n",
       "    <tr>\n",
       "      <th>...</th>\n",
       "      <td>...</td>\n",
       "      <td>...</td>\n",
       "    </tr>\n",
       "    <tr>\n",
       "      <th>28161</th>\n",
       "      <td>n in the world to decide what I'm going to do ...</td>\n",
       "      <td>drama</td>\n",
       "    </tr>\n",
       "    <tr>\n",
       "      <th>28162</th>\n",
       "      <td>shards. BOJO LAZ! Laz pushes Deke back through...</td>\n",
       "      <td>drama</td>\n",
       "    </tr>\n",
       "    <tr>\n",
       "      <th>28163</th>\n",
       "      <td>OTTIE You've got a thing about Ernie's, haven'...</td>\n",
       "      <td>thriller</td>\n",
       "    </tr>\n",
       "    <tr>\n",
       "      <th>28165</th>\n",
       "      <td>....with marked skill and dexterity . LANA wry...</td>\n",
       "      <td>action</td>\n",
       "    </tr>\n",
       "    <tr>\n",
       "      <th>28166</th>\n",
       "      <td>rd walks off down the hallway, leaving his pos...</td>\n",
       "      <td>comedy</td>\n",
       "    </tr>\n",
       "  </tbody>\n",
       "</table>\n",
       "<p>22579 rows × 2 columns</p>\n",
       "</div>"
      ],
      "text/plain": [
       "                                                    text     genre\n",
       "id                                                                \n",
       "0      eady dead, maybe even wishing he was. INT. 2ND...  thriller\n",
       "2      t, summa cum laude and all. And I'm about to l...    comedy\n",
       "3       up Come, I have a surprise.... She takes him ...     drama\n",
       "4      ded by the two detectives. INT. JEFF'S APARTME...  thriller\n",
       "5      nd dismounts, just as the other children reach...     drama\n",
       "...                                                  ...       ...\n",
       "28161  n in the world to decide what I'm going to do ...     drama\n",
       "28162  shards. BOJO LAZ! Laz pushes Deke back through...     drama\n",
       "28163  OTTIE You've got a thing about Ernie's, haven'...  thriller\n",
       "28165  ....with marked skill and dexterity . LANA wry...    action\n",
       "28166  rd walks off down the hallway, leaving his pos...    comedy\n",
       "\n",
       "[22579 rows x 2 columns]"
      ]
     },
     "execution_count": 61,
     "metadata": {},
     "output_type": "execute_result"
    }
   ],
   "source": [
    "df_train"
   ]
  },
  {
   "cell_type": "code",
   "execution_count": 62,
   "id": "011c0a31",
   "metadata": {},
   "outputs": [
    {
     "data": {
      "text/html": [
       "<div>\n",
       "<style scoped>\n",
       "    .dataframe tbody tr th:only-of-type {\n",
       "        vertical-align: middle;\n",
       "    }\n",
       "\n",
       "    .dataframe tbody tr th {\n",
       "        vertical-align: top;\n",
       "    }\n",
       "\n",
       "    .dataframe thead th {\n",
       "        text-align: right;\n",
       "    }\n",
       "</style>\n",
       "<table border=\"1\" class=\"dataframe\">\n",
       "  <thead>\n",
       "    <tr style=\"text-align: right;\">\n",
       "      <th></th>\n",
       "      <th>text</th>\n",
       "    </tr>\n",
       "    <tr>\n",
       "      <th>id</th>\n",
       "      <th></th>\n",
       "    </tr>\n",
       "  </thead>\n",
       "  <tbody>\n",
       "    <tr>\n",
       "      <th>1</th>\n",
       "      <td>glances at her. BOOK Maybe I ought to learn t...</td>\n",
       "    </tr>\n",
       "    <tr>\n",
       "      <th>8</th>\n",
       "      <td>hout breaking stride. Tatiana sees her and can...</td>\n",
       "    </tr>\n",
       "    <tr>\n",
       "      <th>13</th>\n",
       "      <td>dead bodies. GEORDI Mitchell... DePaul... LANG...</td>\n",
       "    </tr>\n",
       "    <tr>\n",
       "      <th>24</th>\n",
       "      <td>take myself. BRANDON How bad is the other thi...</td>\n",
       "    </tr>\n",
       "    <tr>\n",
       "      <th>38</th>\n",
       "      <td>her body to shield his own. KAY Freeze it, Bug...</td>\n",
       "    </tr>\n",
       "    <tr>\n",
       "      <th>...</th>\n",
       "      <td>...</td>\n",
       "    </tr>\n",
       "    <tr>\n",
       "      <th>28140</th>\n",
       "      <td>Crazy Love script by Carol Watson COMMITTED f...</td>\n",
       "    </tr>\n",
       "    <tr>\n",
       "      <th>28142</th>\n",
       "      <td>break? You folks don't need a break, you need...</td>\n",
       "    </tr>\n",
       "    <tr>\n",
       "      <th>28154</th>\n",
       "      <td>egain control of his battered psyche. LIVIA Ca...</td>\n",
       "    </tr>\n",
       "    <tr>\n",
       "      <th>28164</th>\n",
       "      <td>t BEN GRIMM. A normal man. He smiles wide, sha...</td>\n",
       "    </tr>\n",
       "    <tr>\n",
       "      <th>28167</th>\n",
       "      <td>and sees that the elevator is in use and the s...</td>\n",
       "    </tr>\n",
       "  </tbody>\n",
       "</table>\n",
       "<p>5589 rows × 1 columns</p>\n",
       "</div>"
      ],
      "text/plain": [
       "                                                    text\n",
       "id                                                      \n",
       "1       glances at her. BOOK Maybe I ought to learn t...\n",
       "8      hout breaking stride. Tatiana sees her and can...\n",
       "13     dead bodies. GEORDI Mitchell... DePaul... LANG...\n",
       "24      take myself. BRANDON How bad is the other thi...\n",
       "38     her body to shield his own. KAY Freeze it, Bug...\n",
       "...                                                  ...\n",
       "28140   Crazy Love script by Carol Watson COMMITTED f...\n",
       "28142   break? You folks don't need a break, you need...\n",
       "28154  egain control of his battered psyche. LIVIA Ca...\n",
       "28164  t BEN GRIMM. A normal man. He smiles wide, sha...\n",
       "28167  and sees that the elevator is in use and the s...\n",
       "\n",
       "[5589 rows x 1 columns]"
      ]
     },
     "execution_count": 62,
     "metadata": {},
     "output_type": "execute_result"
    }
   ],
   "source": [
    "df_test"
   ]
  },
  {
   "cell_type": "markdown",
   "id": "9e770cd7",
   "metadata": {},
   "source": [
    "## Exploratory Data Analysis"
   ]
  },
  {
   "cell_type": "code",
   "execution_count": 63,
   "id": "7f89b179",
   "metadata": {},
   "outputs": [
    {
     "name": "stdout",
     "output_type": "stream",
     "text": [
      "<class 'pandas.core.frame.DataFrame'>\n",
      "Int64Index: 22579 entries, 0 to 28166\n",
      "Data columns (total 2 columns):\n",
      " #   Column  Non-Null Count  Dtype \n",
      "---  ------  --------------  ----- \n",
      " 0   text    22579 non-null  object\n",
      " 1   genre   22579 non-null  object\n",
      "dtypes: object(2)\n",
      "memory usage: 529.2+ KB\n"
     ]
    }
   ],
   "source": [
    "df_train.info()"
   ]
  },
  {
   "cell_type": "markdown",
   "id": "13af2341",
   "metadata": {},
   "source": [
    "### Shape of Dataset"
   ]
  },
  {
   "cell_type": "code",
   "execution_count": 64,
   "id": "49ce43d0",
   "metadata": {},
   "outputs": [
    {
     "data": {
      "text/plain": [
       "(22579, 2)"
      ]
     },
     "execution_count": 64,
     "metadata": {},
     "output_type": "execute_result"
    }
   ],
   "source": [
    "df_train.shape"
   ]
  },
  {
   "cell_type": "markdown",
   "id": "087e9e55",
   "metadata": {},
   "source": [
    "### Columns in dataset"
   ]
  },
  {
   "cell_type": "code",
   "execution_count": 65,
   "id": "c29227d0",
   "metadata": {},
   "outputs": [
    {
     "data": {
      "text/plain": [
       "Index(['text', 'genre'], dtype='object')"
      ]
     },
     "execution_count": 65,
     "metadata": {},
     "output_type": "execute_result"
    }
   ],
   "source": [
    "df_train.columns"
   ]
  },
  {
   "cell_type": "markdown",
   "id": "de84e9e1",
   "metadata": {},
   "source": [
    "### Columns Data type"
   ]
  },
  {
   "cell_type": "code",
   "execution_count": 66,
   "id": "1e98476c",
   "metadata": {},
   "outputs": [
    {
     "data": {
      "text/plain": [
       "text     object\n",
       "genre    object\n",
       "dtype: object"
      ]
     },
     "execution_count": 66,
     "metadata": {},
     "output_type": "execute_result"
    }
   ],
   "source": [
    "df_train.dtypes"
   ]
  },
  {
   "cell_type": "markdown",
   "id": "b6b9e6aa",
   "metadata": {},
   "source": [
    "### Null Values in Dataset"
   ]
  },
  {
   "cell_type": "code",
   "execution_count": 67,
   "id": "9f796be1",
   "metadata": {},
   "outputs": [
    {
     "data": {
      "text/plain": [
       "text     0\n",
       "genre    0\n",
       "dtype: int64"
      ]
     },
     "execution_count": 67,
     "metadata": {},
     "output_type": "execute_result"
    }
   ],
   "source": [
    "df_train.isna().sum()"
   ]
  },
  {
   "cell_type": "markdown",
   "id": "b6a0cde3",
   "metadata": {},
   "source": [
    "### First 5 rows of dataset"
   ]
  },
  {
   "cell_type": "code",
   "execution_count": 68,
   "id": "d5946953",
   "metadata": {},
   "outputs": [
    {
     "data": {
      "text/html": [
       "<div>\n",
       "<style scoped>\n",
       "    .dataframe tbody tr th:only-of-type {\n",
       "        vertical-align: middle;\n",
       "    }\n",
       "\n",
       "    .dataframe tbody tr th {\n",
       "        vertical-align: top;\n",
       "    }\n",
       "\n",
       "    .dataframe thead th {\n",
       "        text-align: right;\n",
       "    }\n",
       "</style>\n",
       "<table border=\"1\" class=\"dataframe\">\n",
       "  <thead>\n",
       "    <tr style=\"text-align: right;\">\n",
       "      <th></th>\n",
       "      <th>text</th>\n",
       "      <th>genre</th>\n",
       "    </tr>\n",
       "    <tr>\n",
       "      <th>id</th>\n",
       "      <th></th>\n",
       "      <th></th>\n",
       "    </tr>\n",
       "  </thead>\n",
       "  <tbody>\n",
       "    <tr>\n",
       "      <th>0</th>\n",
       "      <td>eady dead, maybe even wishing he was. INT. 2ND...</td>\n",
       "      <td>thriller</td>\n",
       "    </tr>\n",
       "    <tr>\n",
       "      <th>2</th>\n",
       "      <td>t, summa cum laude and all. And I'm about to l...</td>\n",
       "      <td>comedy</td>\n",
       "    </tr>\n",
       "    <tr>\n",
       "      <th>3</th>\n",
       "      <td>up Come, I have a surprise.... She takes him ...</td>\n",
       "      <td>drama</td>\n",
       "    </tr>\n",
       "    <tr>\n",
       "      <th>4</th>\n",
       "      <td>ded by the two detectives. INT. JEFF'S APARTME...</td>\n",
       "      <td>thriller</td>\n",
       "    </tr>\n",
       "    <tr>\n",
       "      <th>5</th>\n",
       "      <td>nd dismounts, just as the other children reach...</td>\n",
       "      <td>drama</td>\n",
       "    </tr>\n",
       "  </tbody>\n",
       "</table>\n",
       "</div>"
      ],
      "text/plain": [
       "                                                 text     genre\n",
       "id                                                             \n",
       "0   eady dead, maybe even wishing he was. INT. 2ND...  thriller\n",
       "2   t, summa cum laude and all. And I'm about to l...    comedy\n",
       "3    up Come, I have a surprise.... She takes him ...     drama\n",
       "4   ded by the two detectives. INT. JEFF'S APARTME...  thriller\n",
       "5   nd dismounts, just as the other children reach...     drama"
      ]
     },
     "execution_count": 68,
     "metadata": {},
     "output_type": "execute_result"
    }
   ],
   "source": [
    "df_train.head()"
   ]
  },
  {
   "cell_type": "markdown",
   "id": "e68fcc3c",
   "metadata": {},
   "source": [
    "### What are the number of movies in different genre ?"
   ]
  },
  {
   "cell_type": "code",
   "execution_count": 69,
   "id": "06b7d722",
   "metadata": {},
   "outputs": [
    {
     "data": {
      "image/png": "[encoded data removed]",
      "text/plain": [
       "<Figure size 720x432 with 1 Axes>"
      ]
     },
     "metadata": {},
     "output_type": "display_data"
    }
   ],
   "source": [
    "genre_counts = df_train['genre'].value_counts().rename_axis('genre').to_frame('counts').reset_index()\n",
    "plt.figure(figsize=(10,6))\n",
    "sns.barplot(data=genre_counts,x='genre',y='counts')\n",
    "plt.title('Movies in different Genre');"
   ]
  },
  {
   "cell_type": "markdown",
   "id": "3aecdd46",
   "metadata": {},
   "source": [
    "* Most of the movies are from drama, thriller,comedy and action genre"
   ]
  },
  {
   "cell_type": "markdown",
   "id": "0fc5aa75",
   "metadata": {},
   "source": [
    "## Data Preprocessing"
   ]
  },
  {
   "cell_type": "markdown",
   "id": "e8c838e0",
   "metadata": {},
   "source": [
    "### Label Encoding Genre Column"
   ]
  },
  {
   "cell_type": "code",
   "execution_count": 70,
   "id": "e884cfdc",
   "metadata": {},
   "outputs": [],
   "source": [
    "le = LabelEncoder()"
   ]
  },
  {
   "cell_type": "code",
   "execution_count": 71,
   "id": "359712b7",
   "metadata": {},
   "outputs": [
    {
     "data": {
      "text/html": [
       "<style>#sk-container-id-3 {color: black;background-color: white;}#sk-container-id-3 pre{padding: 0;}#sk-container-id-3 div.sk-toggleable {background-color: white;}#sk-container-id-3 label.sk-toggleable__label {cursor: pointer;display: block;width: 100%;margin-bottom: 0;padding: 0.3em;box-sizing: border-box;text-align: center;}#sk-container-id-3 label.sk-toggleable__label-arrow:before {content: \"▸\";float: left;margin-right: 0.25em;color: #696969;}#sk-container-id-3 label.sk-toggleable__label-arrow:hover:before {color: black;}#sk-container-id-3 div.sk-estimator:hover label.sk-toggleable__label-arrow:before {color: black;}#sk-container-id-3 div.sk-toggleable__content {max-height: 0;max-width: 0;overflow: hidden;text-align: left;background-color: #f0f8ff;}#sk-container-id-3 div.sk-toggleable__content pre {margin: 0.2em;color: black;border-radius: 0.25em;background-color: #f0f8ff;}#sk-container-id-3 input.sk-toggleable__control:checked~div.sk-toggleable__content {max-height: 200px;max-width: 100%;overflow: auto;}#sk-container-id-3 input.sk-toggleable__control:checked~label.sk-toggleable__label-arrow:before {content: \"▾\";}#sk-container-id-3 div.sk-estimator input.sk-toggleable__control:checked~label.sk-toggleable__label {background-color: #d4ebff;}#sk-container-id-3 div.sk-label input.sk-toggleable__control:checked~label.sk-toggleable__label {background-color: #d4ebff;}#sk-container-id-3 input.sk-hidden--visually {border: 0;clip: rect(1px 1px 1px 1px);clip: rect(1px, 1px, 1px, 1px);height: 1px;margin: -1px;overflow: hidden;padding: 0;position: absolute;width: 1px;}#sk-container-id-3 div.sk-estimator {font-family: monospace;background-color: #f0f8ff;border: 1px dotted black;border-radius: 0.25em;box-sizing: border-box;margin-bottom: 0.5em;}#sk-container-id-3 div.sk-estimator:hover {background-color: #d4ebff;}#sk-container-id-3 div.sk-parallel-item::after {content: \"\";width: 100%;border-bottom: 1px solid gray;flex-grow: 1;}#sk-container-id-3 div.sk-label:hover label.sk-toggleable__label {background-color: #d4ebff;}#sk-container-id-3 div.sk-serial::before {content: \"\";position: absolute;border-left: 1px solid gray;box-sizing: border-box;top: 0;bottom: 0;left: 50%;z-index: 0;}#sk-container-id-3 div.sk-serial {display: flex;flex-direction: column;align-items: center;background-color: white;padding-right: 0.2em;padding-left: 0.2em;position: relative;}#sk-container-id-3 div.sk-item {position: relative;z-index: 1;}#sk-container-id-3 div.sk-parallel {display: flex;align-items: stretch;justify-content: center;background-color: white;position: relative;}#sk-container-id-3 div.sk-item::before, #sk-container-id-3 div.sk-parallel-item::before {content: \"\";position: absolute;border-left: 1px solid gray;box-sizing: border-box;top: 0;bottom: 0;left: 50%;z-index: -1;}#sk-container-id-3 div.sk-parallel-item {display: flex;flex-direction: column;z-index: 1;position: relative;background-color: white;}#sk-container-id-3 div.sk-parallel-item:first-child::after {align-self: flex-end;width: 50%;}#sk-container-id-3 div.sk-parallel-item:last-child::after {align-self: flex-start;width: 50%;}#sk-container-id-3 div.sk-parallel-item:only-child::after {width: 0;}#sk-container-id-3 div.sk-dashed-wrapped {border: 1px dashed gray;margin: 0 0.4em 0.5em 0.4em;box-sizing: border-box;padding-bottom: 0.4em;background-color: white;}#sk-container-id-3 div.sk-label label {font-family: monospace;font-weight: bold;display: inline-block;line-height: 1.2em;}#sk-container-id-3 div.sk-label-container {text-align: center;}#sk-container-id-3 div.sk-container {/* jupyter's `normalize.less` sets `[hidden] { display: none; }` but bootstrap.min.css set `[hidden] { display: none !important; }` so we also need the `!important` here to be able to override the default hidden behavior on the sphinx rendered scikit-learn.org. See: https://github.com/scikit-learn/scikit-learn/issues/21755 */display: inline-block !important;position: relative;}#sk-container-id-3 div.sk-text-repr-fallback {display: none;}</style><div id=\"sk-container-id-3\" class=\"sk-top-container\"><div class=\"sk-text-repr-fallback\"><pre>LabelEncoder()</pre><b>In a Jupyter environment, please rerun this cell to show the HTML representation or trust the notebook. <br />On GitHub, the HTML representation is unable to render, please try loading this page with nbviewer.org.</b></div><div class=\"sk-container\" hidden><div class=\"sk-item\"><div class=\"sk-estimator sk-toggleable\"><input class=\"sk-toggleable__control sk-hidden--visually\" id=\"sk-estimator-id-3\" type=\"checkbox\" checked><label for=\"sk-estimator-id-3\" class=\"sk-toggleable__label sk-toggleable__label-arrow\">LabelEncoder</label><div class=\"sk-toggleable__content\"><pre>LabelEncoder()</pre></div></div></div></div></div>"
      ],
      "text/plain": [
       "LabelEncoder()"
      ]
     },
     "execution_count": 71,
     "metadata": {},
     "output_type": "execute_result"
    }
   ],
   "source": [
    "le.fit(df_train['genre'])"
   ]
  },
  {
   "cell_type": "code",
   "execution_count": 72,
   "id": "24ea2ca0",
   "metadata": {},
   "outputs": [
    {
     "data": {
      "text/plain": [
       "array(['action', 'adventure', 'comedy', 'drama', 'horror', 'other',\n",
       "       'romance', 'sci-fi', 'thriller'], dtype=object)"
      ]
     },
     "execution_count": 72,
     "metadata": {},
     "output_type": "execute_result"
    }
   ],
   "source": [
    "le.classes_"
   ]
  },
  {
   "cell_type": "code",
   "execution_count": 73,
   "id": "cb0d1a14",
   "metadata": {},
   "outputs": [],
   "source": [
    "df_train['genre'] = le.transform(df_train['genre'])"
   ]
  },
  {
   "cell_type": "markdown",
   "id": "a974ab4d",
   "metadata": {},
   "source": [
    "#### Genre after label encoding"
   ]
  },
  {
   "cell_type": "code",
   "execution_count": 74,
   "id": "224fcbf3",
   "metadata": {},
   "outputs": [
    {
     "data": {
      "text/html": [
       "<div>\n",
       "<style scoped>\n",
       "    .dataframe tbody tr th:only-of-type {\n",
       "        vertical-align: middle;\n",
       "    }\n",
       "\n",
       "    .dataframe tbody tr th {\n",
       "        vertical-align: top;\n",
       "    }\n",
       "\n",
       "    .dataframe thead th {\n",
       "        text-align: right;\n",
       "    }\n",
       "</style>\n",
       "<table border=\"1\" class=\"dataframe\">\n",
       "  <thead>\n",
       "    <tr style=\"text-align: right;\">\n",
       "      <th></th>\n",
       "      <th>text</th>\n",
       "      <th>genre</th>\n",
       "    </tr>\n",
       "    <tr>\n",
       "      <th>id</th>\n",
       "      <th></th>\n",
       "      <th></th>\n",
       "    </tr>\n",
       "  </thead>\n",
       "  <tbody>\n",
       "    <tr>\n",
       "      <th>0</th>\n",
       "      <td>eady dead, maybe even wishing he was. INT. 2ND...</td>\n",
       "      <td>8</td>\n",
       "    </tr>\n",
       "    <tr>\n",
       "      <th>2</th>\n",
       "      <td>t, summa cum laude and all. And I'm about to l...</td>\n",
       "      <td>2</td>\n",
       "    </tr>\n",
       "    <tr>\n",
       "      <th>3</th>\n",
       "      <td>up Come, I have a surprise.... She takes him ...</td>\n",
       "      <td>3</td>\n",
       "    </tr>\n",
       "    <tr>\n",
       "      <th>4</th>\n",
       "      <td>ded by the two detectives. INT. JEFF'S APARTME...</td>\n",
       "      <td>8</td>\n",
       "    </tr>\n",
       "    <tr>\n",
       "      <th>5</th>\n",
       "      <td>nd dismounts, just as the other children reach...</td>\n",
       "      <td>3</td>\n",
       "    </tr>\n",
       "    <tr>\n",
       "      <th>...</th>\n",
       "      <td>...</td>\n",
       "      <td>...</td>\n",
       "    </tr>\n",
       "    <tr>\n",
       "      <th>28161</th>\n",
       "      <td>n in the world to decide what I'm going to do ...</td>\n",
       "      <td>3</td>\n",
       "    </tr>\n",
       "    <tr>\n",
       "      <th>28162</th>\n",
       "      <td>shards. BOJO LAZ! Laz pushes Deke back through...</td>\n",
       "      <td>3</td>\n",
       "    </tr>\n",
       "    <tr>\n",
       "      <th>28163</th>\n",
       "      <td>OTTIE You've got a thing about Ernie's, haven'...</td>\n",
       "      <td>8</td>\n",
       "    </tr>\n",
       "    <tr>\n",
       "      <th>28165</th>\n",
       "      <td>....with marked skill and dexterity . LANA wry...</td>\n",
       "      <td>0</td>\n",
       "    </tr>\n",
       "    <tr>\n",
       "      <th>28166</th>\n",
       "      <td>rd walks off down the hallway, leaving his pos...</td>\n",
       "      <td>2</td>\n",
       "    </tr>\n",
       "  </tbody>\n",
       "</table>\n",
       "<p>22579 rows × 2 columns</p>\n",
       "</div>"
      ],
      "text/plain": [
       "                                                    text  genre\n",
       "id                                                             \n",
       "0      eady dead, maybe even wishing he was. INT. 2ND...      8\n",
       "2      t, summa cum laude and all. And I'm about to l...      2\n",
       "3       up Come, I have a surprise.... She takes him ...      3\n",
       "4      ded by the two detectives. INT. JEFF'S APARTME...      8\n",
       "5      nd dismounts, just as the other children reach...      3\n",
       "...                                                  ...    ...\n",
       "28161  n in the world to decide what I'm going to do ...      3\n",
       "28162  shards. BOJO LAZ! Laz pushes Deke back through...      3\n",
       "28163  OTTIE You've got a thing about Ernie's, haven'...      8\n",
       "28165  ....with marked skill and dexterity . LANA wry...      0\n",
       "28166  rd walks off down the hallway, leaving his pos...      2\n",
       "\n",
       "[22579 rows x 2 columns]"
      ]
     },
     "execution_count": 74,
     "metadata": {},
     "output_type": "execute_result"
    }
   ],
   "source": [
    "df_train"
   ]
  },
  {
   "cell_type": "markdown",
   "id": "f0913ad5",
   "metadata": {},
   "source": [
    "### Removing special characters from the text"
   ]
  },
  {
   "cell_type": "code",
   "execution_count": 75,
   "id": "3354877b",
   "metadata": {},
   "outputs": [],
   "source": [
    "def text_only(text):\n",
    "    cleaned = re.compile(r'[^a-zA-Z]')\n",
    "    return re.sub(cleaned,' ',text)"
   ]
  },
  {
   "cell_type": "code",
   "execution_count": 76,
   "id": "9197841f",
   "metadata": {},
   "outputs": [],
   "source": [
    "df_train['text'] = df_train['text'].apply(text_only)"
   ]
  },
  {
   "cell_type": "code",
   "execution_count": 77,
   "id": "e6e5f25e",
   "metadata": {},
   "outputs": [
    {
     "data": {
      "text/html": [
       "<div>\n",
       "<style scoped>\n",
       "    .dataframe tbody tr th:only-of-type {\n",
       "        vertical-align: middle;\n",
       "    }\n",
       "\n",
       "    .dataframe tbody tr th {\n",
       "        vertical-align: top;\n",
       "    }\n",
       "\n",
       "    .dataframe thead th {\n",
       "        text-align: right;\n",
       "    }\n",
       "</style>\n",
       "<table border=\"1\" class=\"dataframe\">\n",
       "  <thead>\n",
       "    <tr style=\"text-align: right;\">\n",
       "      <th></th>\n",
       "      <th>text</th>\n",
       "      <th>genre</th>\n",
       "    </tr>\n",
       "    <tr>\n",
       "      <th>id</th>\n",
       "      <th></th>\n",
       "      <th></th>\n",
       "    </tr>\n",
       "  </thead>\n",
       "  <tbody>\n",
       "    <tr>\n",
       "      <th>0</th>\n",
       "      <td>eady dead  maybe even wishing he was  INT   ND...</td>\n",
       "      <td>8</td>\n",
       "    </tr>\n",
       "    <tr>\n",
       "      <th>2</th>\n",
       "      <td>t  summa cum laude and all  And I m about to l...</td>\n",
       "      <td>2</td>\n",
       "    </tr>\n",
       "    <tr>\n",
       "      <th>3</th>\n",
       "      <td>up Come  I have a surprise     She takes him ...</td>\n",
       "      <td>3</td>\n",
       "    </tr>\n",
       "    <tr>\n",
       "      <th>4</th>\n",
       "      <td>ded by the two detectives  INT  JEFF S APARTME...</td>\n",
       "      <td>8</td>\n",
       "    </tr>\n",
       "    <tr>\n",
       "      <th>5</th>\n",
       "      <td>nd dismounts  just as the other children reach...</td>\n",
       "      <td>3</td>\n",
       "    </tr>\n",
       "  </tbody>\n",
       "</table>\n",
       "</div>"
      ],
      "text/plain": [
       "                                                 text  genre\n",
       "id                                                          \n",
       "0   eady dead  maybe even wishing he was  INT   ND...      8\n",
       "2   t  summa cum laude and all  And I m about to l...      2\n",
       "3    up Come  I have a surprise     She takes him ...      3\n",
       "4   ded by the two detectives  INT  JEFF S APARTME...      8\n",
       "5   nd dismounts  just as the other children reach...      3"
      ]
     },
     "execution_count": 77,
     "metadata": {},
     "output_type": "execute_result"
    }
   ],
   "source": [
    "df_train.head()"
   ]
  },
  {
   "cell_type": "markdown",
   "id": "0a4d78ba",
   "metadata": {},
   "source": [
    "### Change text to lower case"
   ]
  },
  {
   "cell_type": "code",
   "execution_count": 78,
   "id": "732c677b",
   "metadata": {},
   "outputs": [],
   "source": [
    "df_train['text'] = df_train['text'].apply(lambda text:text.lower())"
   ]
  },
  {
   "cell_type": "markdown",
   "id": "e2b94443",
   "metadata": {},
   "source": [
    "### Stpowords Removing"
   ]
  },
  {
   "cell_type": "code",
   "execution_count": 79,
   "id": "ef8fd95e",
   "metadata": {},
   "outputs": [],
   "source": [
    "stop_words = set(stopwords.words('english'))\n",
    "def rem_stopwords(text,stopword_list=stop_words):\n",
    "    for w in text:\n",
    "        if w in stopword_list:\n",
    "            text.replace(w,'')\n",
    "    return text"
   ]
  },
  {
   "cell_type": "code",
   "execution_count": 80,
   "id": "23c10c61",
   "metadata": {},
   "outputs": [],
   "source": [
    "df_train['text'] = df_train['text'].apply(rem_stopwords)"
   ]
  },
  {
   "cell_type": "markdown",
   "id": "75bb715b",
   "metadata": {},
   "source": [
    "### Stemming words with port stemmer"
   ]
  },
  {
   "cell_type": "code",
   "execution_count": 81,
   "id": "12bd76a7",
   "metadata": {},
   "outputs": [],
   "source": [
    "def word_stemmer(text,ps = PorterStemmer()):\n",
    "    for w in text:\n",
    "        text.replace(w,ps.stem(w))\n",
    "    return text"
   ]
  },
  {
   "cell_type": "code",
   "execution_count": 82,
   "id": "4e40beac",
   "metadata": {},
   "outputs": [],
   "source": [
    "df_train['text'] = df_train['text'].apply(word_stemmer)"
   ]
  },
  {
   "cell_type": "code",
   "execution_count": 83,
   "id": "b89862b0",
   "metadata": {},
   "outputs": [
    {
     "name": "stdout",
     "output_type": "stream",
     "text": [
      "eady dead  maybe even wishing he was  int   nd floor hallway three night the orderly leads liza to a door  orderly in here  white guy in his   s  he opens the door and they step into    room three there s a white guy in his mid   s  he looks up  wild  straight jacketed  not jerry  liza s reached the end of her rope  she just shakes her head  int  decrepit hospital room night balled up  fetal  not really all there  head pressed to the cement  he tries to sing to himself  jerry blue moon    blue moon    int   nd floor hallway three night liza just stands there  leaning on a rail on the wall  the orderly isn t sure what s going on  but he knows it s bad  orderly you okay  liza starts down the hall with the orderly following  orderly we got some new patients last week  you want to see them  liza waves them off  it s hopeless  she stops at a chicken wired window at the end of the hall  looks out  light s about to break and jerry s out there somewhere  orderly look  i gotta get back to work \n"
     ]
    }
   ],
   "source": [
    "print(df_train['text'].iloc[0])"
   ]
  },
  {
   "cell_type": "code",
   "execution_count": 84,
   "id": "a07395f8",
   "metadata": {},
   "outputs": [
    {
     "name": "stdout",
     "output_type": "stream",
     "text": [
      " up come  i have a surprise     she takes him by the hand and leads him out to the hallway  salvatore looks at her and feels a pang  she seems smaller  age withers the body  she is slightly stooped  her hair is gathered into a knot at the back other head  you must be tired  if you want to rest  there s time before the funeral  salvatore interrupting her no  mamma  it only takes an hour by air  you know  maria smiling  ironically you shouldn t tell me that now  after all these years  salvatore gets the message  feels guilty  thinking about it  it seems incredible that he has never come before  maria opens a door  steps aside to let her son in  whispers i put all your things in here  go in  go in    salvatore lakes a few steps  is flabbergasted at the sight of his old room perfectly reconstructed and preserved  it looks like a museum  the museum of the past  despite the bed  the clothes in the cupboard  the books on the shelves  it is perfectly clear that no one has ever lived in it and \n"
     ]
    }
   ],
   "source": [
    "print(df_train['text'].iloc[2])"
   ]
  },
  {
   "cell_type": "markdown",
   "id": "6a9c7db9",
   "metadata": {},
   "source": [
    "### Splitiing input and  target columns"
   ]
  },
  {
   "cell_type": "code",
   "execution_count": 85,
   "id": "1a8ec78c",
   "metadata": {},
   "outputs": [],
   "source": [
    "# Creating the Bag of Words model\n",
    "cv = CountVectorizer(max_features=10000, ngram_range=(1,2))\n",
    "X = cv.fit_transform(df_train['text']).toarray()"
   ]
  },
  {
   "cell_type": "code",
   "execution_count": 86,
   "id": "5c1aeaf0",
   "metadata": {},
   "outputs": [],
   "source": [
    "y = df_train['genre']"
   ]
  },
  {
   "cell_type": "markdown",
   "id": "5f8f451c",
   "metadata": {},
   "source": [
    "### Splitting data into train and test set"
   ]
  },
  {
   "cell_type": "code",
   "execution_count": 87,
   "id": "c452cfa7",
   "metadata": {},
   "outputs": [],
   "source": [
    "X_train, X_test, y_train, y_test = train_test_split(X, y, test_size=0.2, random_state=42)"
   ]
  },
  {
   "cell_type": "markdown",
   "id": "ea9bbc8b",
   "metadata": {},
   "source": [
    "## Machine Learning Modeling"
   ]
  },
  {
   "cell_type": "markdown",
   "id": "8185d1c4",
   "metadata": {},
   "source": [
    "### Multinomial Naive Bayes"
   ]
  },
  {
   "cell_type": "code",
   "execution_count": 88,
   "id": "e5386c0a",
   "metadata": {},
   "outputs": [],
   "source": [
    "mnb = MultinomialNB()"
   ]
  },
  {
   "cell_type": "code",
   "execution_count": 89,
   "id": "ad236c8f",
   "metadata": {},
   "outputs": [
    {
     "data": {
      "text/html": [
       "<style>#sk-container-id-4 {color: black;background-color: white;}#sk-container-id-4 pre{padding: 0;}#sk-container-id-4 div.sk-toggleable {background-color: white;}#sk-container-id-4 label.sk-toggleable__label {cursor: pointer;display: block;width: 100%;margin-bottom: 0;padding: 0.3em;box-sizing: border-box;text-align: center;}#sk-container-id-4 label.sk-toggleable__label-arrow:before {content: \"▸\";float: left;margin-right: 0.25em;color: #696969;}#sk-container-id-4 label.sk-toggleable__label-arrow:hover:before {color: black;}#sk-container-id-4 div.sk-estimator:hover label.sk-toggleable__label-arrow:before {color: black;}#sk-container-id-4 div.sk-toggleable__content {max-height: 0;max-width: 0;overflow: hidden;text-align: left;background-color: #f0f8ff;}#sk-container-id-4 div.sk-toggleable__content pre {margin: 0.2em;color: black;border-radius: 0.25em;background-color: #f0f8ff;}#sk-container-id-4 input.sk-toggleable__control:checked~div.sk-toggleable__content {max-height: 200px;max-width: 100%;overflow: auto;}#sk-container-id-4 input.sk-toggleable__control:checked~label.sk-toggleable__label-arrow:before {content: \"▾\";}#sk-container-id-4 div.sk-estimator input.sk-toggleable__control:checked~label.sk-toggleable__label {background-color: #d4ebff;}#sk-container-id-4 div.sk-label input.sk-toggleable__control:checked~label.sk-toggleable__label {background-color: #d4ebff;}#sk-container-id-4 input.sk-hidden--visually {border: 0;clip: rect(1px 1px 1px 1px);clip: rect(1px, 1px, 1px, 1px);height: 1px;margin: -1px;overflow: hidden;padding: 0;position: absolute;width: 1px;}#sk-container-id-4 div.sk-estimator {font-family: monospace;background-color: #f0f8ff;border: 1px dotted black;border-radius: 0.25em;box-sizing: border-box;margin-bottom: 0.5em;}#sk-container-id-4 div.sk-estimator:hover {background-color: #d4ebff;}#sk-container-id-4 div.sk-parallel-item::after {content: \"\";width: 100%;border-bottom: 1px solid gray;flex-grow: 1;}#sk-container-id-4 div.sk-label:hover label.sk-toggleable__label {background-color: #d4ebff;}#sk-container-id-4 div.sk-serial::before {content: \"\";position: absolute;border-left: 1px solid gray;box-sizing: border-box;top: 0;bottom: 0;left: 50%;z-index: 0;}#sk-container-id-4 div.sk-serial {display: flex;flex-direction: column;align-items: center;background-color: white;padding-right: 0.2em;padding-left: 0.2em;position: relative;}#sk-container-id-4 div.sk-item {position: relative;z-index: 1;}#sk-container-id-4 div.sk-parallel {display: flex;align-items: stretch;justify-content: center;background-color: white;position: relative;}#sk-container-id-4 div.sk-item::before, #sk-container-id-4 div.sk-parallel-item::before {content: \"\";position: absolute;border-left: 1px solid gray;box-sizing: border-box;top: 0;bottom: 0;left: 50%;z-index: -1;}#sk-container-id-4 div.sk-parallel-item {display: flex;flex-direction: column;z-index: 1;position: relative;background-color: white;}#sk-container-id-4 div.sk-parallel-item:first-child::after {align-self: flex-end;width: 50%;}#sk-container-id-4 div.sk-parallel-item:last-child::after {align-self: flex-start;width: 50%;}#sk-container-id-4 div.sk-parallel-item:only-child::after {width: 0;}#sk-container-id-4 div.sk-dashed-wrapped {border: 1px dashed gray;margin: 0 0.4em 0.5em 0.4em;box-sizing: border-box;padding-bottom: 0.4em;background-color: white;}#sk-container-id-4 div.sk-label label {font-family: monospace;font-weight: bold;display: inline-block;line-height: 1.2em;}#sk-container-id-4 div.sk-label-container {text-align: center;}#sk-container-id-4 div.sk-container {/* jupyter's `normalize.less` sets `[hidden] { display: none; }` but bootstrap.min.css set `[hidden] { display: none !important; }` so we also need the `!important` here to be able to override the default hidden behavior on the sphinx rendered scikit-learn.org. See: https://github.com/scikit-learn/scikit-learn/issues/21755 */display: inline-block !important;position: relative;}#sk-container-id-4 div.sk-text-repr-fallback {display: none;}</style><div id=\"sk-container-id-4\" class=\"sk-top-container\"><div class=\"sk-text-repr-fallback\"><pre>MultinomialNB()</pre><b>In a Jupyter environment, please rerun this cell to show the HTML representation or trust the notebook. <br />On GitHub, the HTML representation is unable to render, please try loading this page with nbviewer.org.</b></div><div class=\"sk-container\" hidden><div class=\"sk-item\"><div class=\"sk-estimator sk-toggleable\"><input class=\"sk-toggleable__control sk-hidden--visually\" id=\"sk-estimator-id-4\" type=\"checkbox\" checked><label for=\"sk-estimator-id-4\" class=\"sk-toggleable__label sk-toggleable__label-arrow\">MultinomialNB</label><div class=\"sk-toggleable__content\"><pre>MultinomialNB()</pre></div></div></div></div></div>"
      ],
      "text/plain": [
       "MultinomialNB()"
      ]
     },
     "execution_count": 89,
     "metadata": {},
     "output_type": "execute_result"
    }
   ],
   "source": [
    "# Model Training\n",
    "mnb.fit(X_train,y_train)"
   ]
  },
  {
   "cell_type": "markdown",
   "id": "4c4a86d6",
   "metadata": {},
   "source": [
    "### Naive Bayes Model Evaluation"
   ]
  },
  {
   "cell_type": "code",
   "execution_count": 90,
   "id": "960bd01b",
   "metadata": {},
   "outputs": [],
   "source": [
    "def model_eval(clf, X_train, y_train, X_test, y_test, train_score=True):\n",
    "    if train_score:\n",
    "        pred = clf.predict(X_train)\n",
    "        clf_report = pd.DataFrame(classification_report(y_train, pred, output_dict=True))\n",
    "        print(\"Train Result:\\n================================================\")\n",
    "        print(f\"Accuracy Score: {accuracy_score(y_train, pred) * 100:.2f}%\")\n",
    "        print(\"_______________________________________________\")\n",
    "        print(f\"CLASSIFICATION REPORT:\\n{clf_report}\")\n",
    "        print(\"_______________________________________________\")\n",
    "        print(f\"Confusion Matrix: \\n {confusion_matrix(y_train, pred)}\\n\")\n",
    "        \n",
    "    elif train_score==False:\n",
    "        pred = clf.predict(X_test)\n",
    "        clf_report = pd.DataFrame(classification_report(y_test, pred, output_dict=True))\n",
    "        print(\"Test Result:\\n================================================\")        \n",
    "        print(f\"Accuracy Score: {accuracy_score(y_test, pred) * 100:.2f}%\")\n",
    "        print(\"_______________________________________________\")\n",
    "        print(f\"CLASSIFICATION REPORT:\\n{clf_report}\")\n",
    "        print(\"_______________________________________________\")\n",
    "        print(f\"Confusion Matrix: \\n {confusion_matrix(y_test, pred)}\\n\")"
   ]
  },
  {
   "cell_type": "markdown",
   "id": "557d6fac",
   "metadata": {},
   "source": [
    "### Scores"
   ]
  },
  {
   "cell_type": "code",
   "execution_count": 91,
   "id": "a71e83aa",
   "metadata": {},
   "outputs": [
    {
     "name": "stdout",
     "output_type": "stream",
     "text": [
      "Train Result:\n",
      "================================================\n",
      "Accuracy Score: 86.86%\n",
      "_______________________________________________\n",
      "CLASSIFICATION REPORT:\n",
      "                     0           1            2            3           4  \\\n",
      "precision     0.796744    0.903704     0.864887     0.914828    0.568966   \n",
      "recall        0.943721    1.000000     0.899393     0.829811    0.975806   \n",
      "f1-score      0.864027    0.949416     0.881803     0.870248    0.718812   \n",
      "support    1919.000000  122.000000  2306.000000  7145.000000  372.000000   \n",
      "\n",
      "                    5          6           7            8  accuracy  \\\n",
      "precision    0.948837   0.892857    0.776730     0.887593  0.868626   \n",
      "recall       1.000000   0.980392    0.974359     0.853964  0.868626   \n",
      "f1-score     0.973747   0.934579    0.864392     0.870454  0.868626   \n",
      "support    204.000000  51.000000  507.000000  5437.000000  0.868626   \n",
      "\n",
      "              macro avg  weighted avg  \n",
      "precision      0.839461      0.876957  \n",
      "recall         0.939716      0.868626  \n",
      "f1-score       0.880831      0.869726  \n",
      "support    18063.000000  18063.000000  \n",
      "_______________________________________________\n",
      "Confusion Matrix: \n",
      " [[1811    0   39   47    2    1    0    1   18]\n",
      " [   0  122    0    0    0    0    0    0    0]\n",
      " [  67    3 2074   44   26    0    1   22   69]\n",
      " [ 286    6  169 5929  202    9    2   42  500]\n",
      " [   0    0    1    7  363    0    0    0    1]\n",
      " [   0    0    0    0    0  204    0    0    0]\n",
      " [   1    0    0    0    0    0   50    0    0]\n",
      " [   1    0    5    5    2    0    0  494    0]\n",
      " [ 107    4  110  449   43    1    3   77 4643]]\n",
      "\n"
     ]
    }
   ],
   "source": [
    "# Train Scores\n",
    "model_eval(mnb, X_train, y_train, X_test, y_test, train_score=True)"
   ]
  },
  {
   "cell_type": "code",
   "execution_count": 92,
   "id": "357a4d92",
   "metadata": {},
   "outputs": [
    {
     "name": "stdout",
     "output_type": "stream",
     "text": [
      "Test Result:\n",
      "================================================\n",
      "Accuracy Score: 83.17%\n",
      "_______________________________________________\n",
      "CLASSIFICATION REPORT:\n",
      "                    0          1           2            3          4  \\\n",
      "precision    0.747387   0.851852    0.822804     0.876002   0.464968   \n",
      "recall       0.906977   0.920000    0.840945     0.821759   0.869048   \n",
      "f1-score     0.819484   0.884615    0.831776     0.848014   0.605809   \n",
      "support    473.000000  25.000000  635.000000  1728.000000  84.000000   \n",
      "\n",
      "                   5          6           7            8  accuracy  \\\n",
      "precision   0.937500   0.916667    0.635714     0.878145  0.831709   \n",
      "recall      0.909091   0.916667    0.839623     0.805335  0.831709   \n",
      "f1-score    0.923077   0.916667    0.723577     0.840165  0.831709   \n",
      "support    66.000000  12.000000  106.000000  1387.000000  0.831709   \n",
      "\n",
      "             macro avg  weighted avg  \n",
      "precision     0.792338      0.843297  \n",
      "recall        0.869938      0.831709  \n",
      "f1-score      0.821465      0.834388  \n",
      "support    4516.000000   4516.000000  \n",
      "_______________________________________________\n",
      "Confusion Matrix: \n",
      " [[ 429    0   13   20    1    0    0    1    9]\n",
      " [   1   23    0    1    0    0    0    0    0]\n",
      " [  20    0  534   33   10    0    0    7   31]\n",
      " [  75    3   56 1420   53    2    0   11  108]\n",
      " [   1    0    2    6   73    0    0    0    2]\n",
      " [   0    0    1    2    1   60    0    1    1]\n",
      " [   1    0    0    0    0    0   11    0    0]\n",
      " [   5    0    2    5    0    0    1   89    4]\n",
      " [  42    1   41  134   19    2    0   31 1117]]\n",
      "\n"
     ]
    }
   ],
   "source": [
    "\n",
    "# Test Scores\n",
    "model_eval(mnb, X_train, y_train, X_test, y_test, train_score=False)"
   ]
  },
  {
   "cell_type": "markdown",
   "id": "1ad95922",
   "metadata": {},
   "source": [
    "### Hyperparameter Tunning Finding Best Value of ALPHA"
   ]
  },
  {
   "cell_type": "code",
   "execution_count": 95,
   "id": "f5910427",
   "metadata": {},
   "outputs": [],
   "source": [
    "def best_alpha(alpha_list,X_train,y_train,X_test,y_test):\n",
    "    train_accuracy = []\n",
    "    test_accuracy = []\n",
    "    alpha_val = []\n",
    "    for i in tqdm(alpha_list):\n",
    "        temp_classifier = MultinomialNB(alpha=i)\n",
    "        temp_classifier.fit(X_train, y_train)\n",
    "        temp_ytrain_pred = temp_classifier.predict(X_train)\n",
    "        temp_ytest_pred = temp_classifier.predict(X_test)\n",
    "        alpha_val.append(i)\n",
    "        train_accuracy.append(accuracy_score(y_train, temp_ytrain_pred))\n",
    "        test_accuracy.append(accuracy_score(y_test, temp_ytest_pred))\n",
    "    plt.plot(alpha_val,train_accuracy, color='r',marker='o')  \n",
    "    plt.plot(alpha_val,test_accuracy, color='b',marker='o')\n",
    "    plt.legend(['Train Accu','Test Accu'])\n",
    "    plt.title('Train and Test Accuracy with Different Alpha')\n",
    "\n"
   ]
  },
  {
   "cell_type": "code",
   "execution_count": 96,
   "id": "bcfd8844",
   "metadata": {},
   "outputs": [
    {
     "name": "stderr",
     "output_type": "stream",
     "text": [
      "100%|██████████████████████████████████████████████████████████████████████████████████| 10/10 [07:49<00:00, 46.92s/it]\n"
     ]
    },
    {
     "data": {
      "image/png": "[encoded data removed]",
      "text/plain": [
       "<Figure size 432x288 with 1 Axes>"
      ]
     },
     "metadata": {},
     "output_type": "display_data"
    }
   ],
   "source": [
    "alpha_list = np.arange(0.1,1.1,0.1)\n",
    "best_alpha(alpha_list,X_train,y_train,X_test,y_test)"
   ]
  },
  {
   "cell_type": "markdown",
   "id": "5ed59690",
   "metadata": {},
   "source": [
    "### Multinomial Naive Bayes with alpha=0.1"
   ]
  },
  {
   "cell_type": "code",
   "execution_count": 97,
   "id": "3ed6c214",
   "metadata": {},
   "outputs": [],
   "source": [
    "mnb2 = MultinomialNB(alpha=0.1)"
   ]
  },
  {
   "cell_type": "code",
   "execution_count": 106,
   "id": "116f0572",
   "metadata": {},
   "outputs": [
    {
     "data": {
      "text/html": [
       "<style>#sk-container-id-6 {color: black;background-color: white;}#sk-container-id-6 pre{padding: 0;}#sk-container-id-6 div.sk-toggleable {background-color: white;}#sk-container-id-6 label.sk-toggleable__label {cursor: pointer;display: block;width: 100%;margin-bottom: 0;padding: 0.3em;box-sizing: border-box;text-align: center;}#sk-container-id-6 label.sk-toggleable__label-arrow:before {content: \"▸\";float: left;margin-right: 0.25em;color: #696969;}#sk-container-id-6 label.sk-toggleable__label-arrow:hover:before {color: black;}#sk-container-id-6 div.sk-estimator:hover label.sk-toggleable__label-arrow:before {color: black;}#sk-container-id-6 div.sk-toggleable__content {max-height: 0;max-width: 0;overflow: hidden;text-align: left;background-color: #f0f8ff;}#sk-container-id-6 div.sk-toggleable__content pre {margin: 0.2em;color: black;border-radius: 0.25em;background-color: #f0f8ff;}#sk-container-id-6 input.sk-toggleable__control:checked~div.sk-toggleable__content {max-height: 200px;max-width: 100%;overflow: auto;}#sk-container-id-6 input.sk-toggleable__control:checked~label.sk-toggleable__label-arrow:before {content: \"▾\";}#sk-container-id-6 div.sk-estimator input.sk-toggleable__control:checked~label.sk-toggleable__label {background-color: #d4ebff;}#sk-container-id-6 div.sk-label input.sk-toggleable__control:checked~label.sk-toggleable__label {background-color: #d4ebff;}#sk-container-id-6 input.sk-hidden--visually {border: 0;clip: rect(1px 1px 1px 1px);clip: rect(1px, 1px, 1px, 1px);height: 1px;margin: -1px;overflow: hidden;padding: 0;position: absolute;width: 1px;}#sk-container-id-6 div.sk-estimator {font-family: monospace;background-color: #f0f8ff;border: 1px dotted black;border-radius: 0.25em;box-sizing: border-box;margin-bottom: 0.5em;}#sk-container-id-6 div.sk-estimator:hover {background-color: #d4ebff;}#sk-container-id-6 div.sk-parallel-item::after {content: \"\";width: 100%;border-bottom: 1px solid gray;flex-grow: 1;}#sk-container-id-6 div.sk-label:hover label.sk-toggleable__label {background-color: #d4ebff;}#sk-container-id-6 div.sk-serial::before {content: \"\";position: absolute;border-left: 1px solid gray;box-sizing: border-box;top: 0;bottom: 0;left: 50%;z-index: 0;}#sk-container-id-6 div.sk-serial {display: flex;flex-direction: column;align-items: center;background-color: white;padding-right: 0.2em;padding-left: 0.2em;position: relative;}#sk-container-id-6 div.sk-item {position: relative;z-index: 1;}#sk-container-id-6 div.sk-parallel {display: flex;align-items: stretch;justify-content: center;background-color: white;position: relative;}#sk-container-id-6 div.sk-item::before, #sk-container-id-6 div.sk-parallel-item::before {content: \"\";position: absolute;border-left: 1px solid gray;box-sizing: border-box;top: 0;bottom: 0;left: 50%;z-index: -1;}#sk-container-id-6 div.sk-parallel-item {display: flex;flex-direction: column;z-index: 1;position: relative;background-color: white;}#sk-container-id-6 div.sk-parallel-item:first-child::after {align-self: flex-end;width: 50%;}#sk-container-id-6 div.sk-parallel-item:last-child::after {align-self: flex-start;width: 50%;}#sk-container-id-6 div.sk-parallel-item:only-child::after {width: 0;}#sk-container-id-6 div.sk-dashed-wrapped {border: 1px dashed gray;margin: 0 0.4em 0.5em 0.4em;box-sizing: border-box;padding-bottom: 0.4em;background-color: white;}#sk-container-id-6 div.sk-label label {font-family: monospace;font-weight: bold;display: inline-block;line-height: 1.2em;}#sk-container-id-6 div.sk-label-container {text-align: center;}#sk-container-id-6 div.sk-container {/* jupyter's `normalize.less` sets `[hidden] { display: none; }` but bootstrap.min.css set `[hidden] { display: none !important; }` so we also need the `!important` here to be able to override the default hidden behavior on the sphinx rendered scikit-learn.org. See: https://github.com/scikit-learn/scikit-learn/issues/21755 */display: inline-block !important;position: relative;}#sk-container-id-6 div.sk-text-repr-fallback {display: none;}</style><div id=\"sk-container-id-6\" class=\"sk-top-container\"><div class=\"sk-text-repr-fallback\"><pre>MultinomialNB(alpha=0.1)</pre><b>In a Jupyter environment, please rerun this cell to show the HTML representation or trust the notebook. <br />On GitHub, the HTML representation is unable to render, please try loading this page with nbviewer.org.</b></div><div class=\"sk-container\" hidden><div class=\"sk-item\"><div class=\"sk-estimator sk-toggleable\"><input class=\"sk-toggleable__control sk-hidden--visually\" id=\"sk-estimator-id-6\" type=\"checkbox\" checked><label for=\"sk-estimator-id-6\" class=\"sk-toggleable__label sk-toggleable__label-arrow\">MultinomialNB</label><div class=\"sk-toggleable__content\"><pre>MultinomialNB(alpha=0.1)</pre></div></div></div></div></div>"
      ],
      "text/plain": [
       "MultinomialNB(alpha=0.1)"
      ]
     },
     "execution_count": 106,
     "metadata": {},
     "output_type": "execute_result"
    }
   ],
   "source": [
    "# Model Training\n",
    "mnb2.fit(X_train,y_train)"
   ]
  },
  {
   "cell_type": "markdown",
   "id": "8ea7ed25",
   "metadata": {},
   "source": [
    "## Saving Model And Parameters"
   ]
  },
  {
   "cell_type": "code",
   "execution_count": 107,
   "id": "d0c7ceb4",
   "metadata": {},
   "outputs": [],
   "source": [
    "import joblib"
   ]
  },
  {
   "cell_type": "code",
   "execution_count": 108,
   "id": "9dcc0c37",
   "metadata": {},
   "outputs": [],
   "source": [
    "params ={\n",
    "    'model':mnb2,\n",
    "    'count_vect':cv,\n",
    "    'label_encoder':le    \n",
    "}"
   ]
  },
  {
   "cell_type": "code",
   "execution_count": 109,
   "id": "633f51ac",
   "metadata": {},
   "outputs": [
    {
     "data": {
      "text/plain": [
       "['movie_classifier.joblib']"
      ]
     },
     "execution_count": 109,
     "metadata": {},
     "output_type": "execute_result"
    }
   ],
   "source": [
    "joblib.dump(params,'movie_classifier.joblib')"
   ]
  },
  {
   "cell_type": "markdown",
   "id": "964965ed",
   "metadata": {},
   "source": [
    "## Predicting Genre for test dataset"
   ]
  },
  {
   "cell_type": "code",
   "execution_count": 112,
   "id": "2e7c34cc",
   "metadata": {},
   "outputs": [],
   "source": [
    "ps = PorterStemmer()\n",
    "def pred_genre(text):\n",
    "    script = re.sub(pattern='[^a-zA-Z]',repl=' ', string=text)\n",
    "    script = script.lower()\n",
    "    script_words = script.split()\n",
    "    sample_script_words = [word for word in script_words if not word in set(stopwords.words('english'))]\n",
    "    final_script = [ps.stem(word) for word in script_words]\n",
    "    final_script = ' '.join(final_script)\n",
    "    bow = cv.transform([final_script]).toarray()\n",
    "    pred = mnb2.predict(bow)\n",
    "    pred = le.inverse_transform(pred)\n",
    "    return pred[0]"
   ]
  },
  {
   "cell_type": "code",
   "execution_count": 118,
   "id": "25228f82",
   "metadata": {},
   "outputs": [
    {
     "name": "stderr",
     "output_type": "stream",
     "text": [
      "100%|██████████████████████████████████████████████████████████████████████████████| 5589/5589 [06:36<00:00, 14.10it/s]\n"
     ]
    }
   ],
   "source": [
    "genre=[]\n",
    "for script in tqdm(df_test['text'].values):\n",
    "    predicted_genre = pred_genre(script)\n",
    "    genre.append(predicted_genre)\n",
    "#\n",
    "df_test['genre']=genre"
   ]
  },
  {
   "cell_type": "code",
   "execution_count": 119,
   "id": "65430784",
   "metadata": {},
   "outputs": [
    {
     "data": {
      "text/html": [
       "<div>\n",
       "<style scoped>\n",
       "    .dataframe tbody tr th:only-of-type {\n",
       "        vertical-align: middle;\n",
       "    }\n",
       "\n",
       "    .dataframe tbody tr th {\n",
       "        vertical-align: top;\n",
       "    }\n",
       "\n",
       "    .dataframe thead th {\n",
       "        text-align: right;\n",
       "    }\n",
       "</style>\n",
       "<table border=\"1\" class=\"dataframe\">\n",
       "  <thead>\n",
       "    <tr style=\"text-align: right;\">\n",
       "      <th></th>\n",
       "      <th>text</th>\n",
       "      <th>genre</th>\n",
       "    </tr>\n",
       "    <tr>\n",
       "      <th>id</th>\n",
       "      <th></th>\n",
       "      <th></th>\n",
       "    </tr>\n",
       "  </thead>\n",
       "  <tbody>\n",
       "    <tr>\n",
       "      <th>1</th>\n",
       "      <td>glances at her. BOOK Maybe I ought to learn t...</td>\n",
       "      <td>drama</td>\n",
       "    </tr>\n",
       "    <tr>\n",
       "      <th>8</th>\n",
       "      <td>hout breaking stride. Tatiana sees her and can...</td>\n",
       "      <td>drama</td>\n",
       "    </tr>\n",
       "    <tr>\n",
       "      <th>13</th>\n",
       "      <td>dead bodies. GEORDI Mitchell... DePaul... LANG...</td>\n",
       "      <td>thriller</td>\n",
       "    </tr>\n",
       "    <tr>\n",
       "      <th>24</th>\n",
       "      <td>take myself. BRANDON How bad is the other thi...</td>\n",
       "      <td>thriller</td>\n",
       "    </tr>\n",
       "    <tr>\n",
       "      <th>38</th>\n",
       "      <td>her body to shield his own. KAY Freeze it, Bug...</td>\n",
       "      <td>action</td>\n",
       "    </tr>\n",
       "    <tr>\n",
       "      <th>...</th>\n",
       "      <td>...</td>\n",
       "      <td>...</td>\n",
       "    </tr>\n",
       "    <tr>\n",
       "      <th>28140</th>\n",
       "      <td>Crazy Love script by Carol Watson COMMITTED f...</td>\n",
       "      <td>drama</td>\n",
       "    </tr>\n",
       "    <tr>\n",
       "      <th>28142</th>\n",
       "      <td>break? You folks don't need a break, you need...</td>\n",
       "      <td>comedy</td>\n",
       "    </tr>\n",
       "    <tr>\n",
       "      <th>28154</th>\n",
       "      <td>egain control of his battered psyche. LIVIA Ca...</td>\n",
       "      <td>drama</td>\n",
       "    </tr>\n",
       "    <tr>\n",
       "      <th>28164</th>\n",
       "      <td>t BEN GRIMM. A normal man. He smiles wide, sha...</td>\n",
       "      <td>action</td>\n",
       "    </tr>\n",
       "    <tr>\n",
       "      <th>28167</th>\n",
       "      <td>and sees that the elevator is in use and the s...</td>\n",
       "      <td>action</td>\n",
       "    </tr>\n",
       "  </tbody>\n",
       "</table>\n",
       "<p>5589 rows × 2 columns</p>\n",
       "</div>"
      ],
      "text/plain": [
       "                                                    text     genre\n",
       "id                                                                \n",
       "1       glances at her. BOOK Maybe I ought to learn t...     drama\n",
       "8      hout breaking stride. Tatiana sees her and can...     drama\n",
       "13     dead bodies. GEORDI Mitchell... DePaul... LANG...  thriller\n",
       "24      take myself. BRANDON How bad is the other thi...  thriller\n",
       "38     her body to shield his own. KAY Freeze it, Bug...    action\n",
       "...                                                  ...       ...\n",
       "28140   Crazy Love script by Carol Watson COMMITTED f...     drama\n",
       "28142   break? You folks don't need a break, you need...    comedy\n",
       "28154  egain control of his battered psyche. LIVIA Ca...     drama\n",
       "28164  t BEN GRIMM. A normal man. He smiles wide, sha...    action\n",
       "28167  and sees that the elevator is in use and the s...    action\n",
       "\n",
       "[5589 rows x 2 columns]"
      ]
     },
     "execution_count": 119,
     "metadata": {},
     "output_type": "execute_result"
    }
   ],
   "source": [
    "df_test"
   ]
  },
  {
   "cell_type": "code",
   "execution_count": 120,
   "id": "3a591c47",
   "metadata": {},
   "outputs": [],
   "source": [
    "df_test.to_csv('test_predicted.csv')"
   ]
  },
  {
   "cell_type": "code",
   "execution_count": null,
   "id": "b68b8443",
   "metadata": {},
   "outputs": [],
   "source": []
  }
 ],
 "metadata": {
  "kernelspec": {
   "display_name": "Python 3 (ipykernel)",
   "language": "python",
   "name": "python3"
  },
  "language_info": {
   "codemirror_mode": {
    "name": "ipython",
    "version": 3
   },
   "file_extension": ".py",
   "mimetype": "text/x-python",
   "name": "python",
   "nbconvert_exporter": "python",
   "pygments_lexer": "ipython3",
   "version": "3.10.4"
  }
 },
 "nbformat": 4,
 "nbformat_minor": 5
}
