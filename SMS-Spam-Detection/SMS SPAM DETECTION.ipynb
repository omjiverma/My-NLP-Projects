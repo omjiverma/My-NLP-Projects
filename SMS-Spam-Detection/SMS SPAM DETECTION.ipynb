{
 "cells": [
  {
   "attachments": {},
   "cell_type": "markdown",
   "id": "29bfe4e5",
   "metadata": {},
   "source": [
    "# SMS SPAM DETECTION"
   ]
  },
  {
   "cell_type": "markdown",
   "id": "0f49fa4f",
   "metadata": {},
   "source": [
    "## Objective : Flaging spam SMS for filtering/cleaning the SMS from the phone."
   ]
  },
  {
   "cell_type": "markdown",
   "id": "a3a526d5",
   "metadata": {},
   "source": [
    "### Import the Libraries"
   ]
  },
  {
   "cell_type": "code",
   "execution_count": 1,
   "id": "09d984fb",
   "metadata": {},
   "outputs": [],
   "source": [
    "import warnings\n",
    "warnings.filterwarnings('ignore')\n",
    "import pandas as pd\n",
    "import matplotlib.pyplot as plt\n",
    "import matplotlib\n",
    "import seaborn as sns\n",
    "%matplotlib inline\n",
    "custom_params = {\"axes.spines.right\": False, \"axes.spines.top\": False}\n",
    "sns.set_theme(style=\"white\", rc=custom_params,palette='Set1')\n",
    "# Configuring styles\n",
    "sns.set_style(\"darkgrid\")\n",
    "matplotlib.rcParams['font.size'] = 14\n",
    "matplotlib.rcParams['figure.figsize'] = (9, 5)\n",
    "matplotlib.rcParams['figure.facecolor'] = '#00000000'\n",
    "#NLP Libraries\n",
    "import nltk\n",
    "import re\n",
    "from nltk.tokenize import word_tokenize\n",
    "from nltk.corpus import stopwords\n",
    "from nltk.stem import WordNetLemmatizer\n",
    "from sklearn.feature_extraction.text import TfidfVectorizer\n",
    "# ML Libraries\n",
    "from sklearn.metrics import accuracy_score, confusion_matrix, classification_report\n",
    "from sklearn.model_selection import train_test_split\n",
    "from sklearn.naive_bayes import MultinomialNB\n",
    "from sklearn.tree import DecisionTreeClassifier\n",
    "from sklearn.ensemble import RandomForestClassifier\n",
    "from sklearn.ensemble import VotingClassifier"
   ]
  },
  {
   "cell_type": "markdown",
   "id": "881cb2e7",
   "metadata": {},
   "source": [
    "### Load the Dataset"
   ]
  },
  {
   "cell_type": "code",
   "execution_count": 2,
   "id": "a014c113",
   "metadata": {},
   "outputs": [],
   "source": [
    "df = pd.read_csv('SMS-Dataset.txt', sep='\\t', names=['label', 'message'])"
   ]
  },
  {
   "cell_type": "code",
   "execution_count": 3,
   "id": "b61b99d0",
   "metadata": {},
   "outputs": [
    {
     "data": {
      "text/html": [
       "<div>\n",
       "<style scoped>\n",
       "    .dataframe tbody tr th:only-of-type {\n",
       "        vertical-align: middle;\n",
       "    }\n",
       "\n",
       "    .dataframe tbody tr th {\n",
       "        vertical-align: top;\n",
       "    }\n",
       "\n",
       "    .dataframe thead th {\n",
       "        text-align: right;\n",
       "    }\n",
       "</style>\n",
       "<table border=\"1\" class=\"dataframe\">\n",
       "  <thead>\n",
       "    <tr style=\"text-align: right;\">\n",
       "      <th></th>\n",
       "      <th>label</th>\n",
       "      <th>message</th>\n",
       "    </tr>\n",
       "  </thead>\n",
       "  <tbody>\n",
       "    <tr>\n",
       "      <th>0</th>\n",
       "      <td>ham</td>\n",
       "      <td>Go until jurong point, crazy.. Available only ...</td>\n",
       "    </tr>\n",
       "    <tr>\n",
       "      <th>1</th>\n",
       "      <td>ham</td>\n",
       "      <td>Ok lar... Joking wif u oni...</td>\n",
       "    </tr>\n",
       "    <tr>\n",
       "      <th>2</th>\n",
       "      <td>spam</td>\n",
       "      <td>Free entry in 2 a wkly comp to win FA Cup fina...</td>\n",
       "    </tr>\n",
       "    <tr>\n",
       "      <th>3</th>\n",
       "      <td>ham</td>\n",
       "      <td>U dun say so early hor... U c already then say...</td>\n",
       "    </tr>\n",
       "    <tr>\n",
       "      <th>4</th>\n",
       "      <td>ham</td>\n",
       "      <td>Nah I don't think he goes to usf, he lives aro...</td>\n",
       "    </tr>\n",
       "    <tr>\n",
       "      <th>...</th>\n",
       "      <td>...</td>\n",
       "      <td>...</td>\n",
       "    </tr>\n",
       "    <tr>\n",
       "      <th>5567</th>\n",
       "      <td>spam</td>\n",
       "      <td>This is the 2nd time we have tried 2 contact u...</td>\n",
       "    </tr>\n",
       "    <tr>\n",
       "      <th>5568</th>\n",
       "      <td>ham</td>\n",
       "      <td>Will ü b going to esplanade fr home?</td>\n",
       "    </tr>\n",
       "    <tr>\n",
       "      <th>5569</th>\n",
       "      <td>ham</td>\n",
       "      <td>Pity, * was in mood for that. So...any other s...</td>\n",
       "    </tr>\n",
       "    <tr>\n",
       "      <th>5570</th>\n",
       "      <td>ham</td>\n",
       "      <td>The guy did some bitching but I acted like i'd...</td>\n",
       "    </tr>\n",
       "    <tr>\n",
       "      <th>5571</th>\n",
       "      <td>ham</td>\n",
       "      <td>Rofl. Its true to its name</td>\n",
       "    </tr>\n",
       "  </tbody>\n",
       "</table>\n",
       "<p>5572 rows × 2 columns</p>\n",
       "</div>"
      ],
      "text/plain": [
       "     label                                            message\n",
       "0      ham  Go until jurong point, crazy.. Available only ...\n",
       "1      ham                      Ok lar... Joking wif u oni...\n",
       "2     spam  Free entry in 2 a wkly comp to win FA Cup fina...\n",
       "3      ham  U dun say so early hor... U c already then say...\n",
       "4      ham  Nah I don't think he goes to usf, he lives aro...\n",
       "...    ...                                                ...\n",
       "5567  spam  This is the 2nd time we have tried 2 contact u...\n",
       "5568   ham               Will ü b going to esplanade fr home?\n",
       "5569   ham  Pity, * was in mood for that. So...any other s...\n",
       "5570   ham  The guy did some bitching but I acted like i'd...\n",
       "5571   ham                         Rofl. Its true to its name\n",
       "\n",
       "[5572 rows x 2 columns]"
      ]
     },
     "execution_count": 3,
     "metadata": {},
     "output_type": "execute_result"
    }
   ],
   "source": [
    "df"
   ]
  },
  {
   "cell_type": "markdown",
   "id": "f197d372",
   "metadata": {},
   "source": [
    "## Exploratory Data Analysis"
   ]
  },
  {
   "cell_type": "code",
   "execution_count": 4,
   "id": "18ab520a",
   "metadata": {},
   "outputs": [
    {
     "name": "stdout",
     "output_type": "stream",
     "text": [
      "<class 'pandas.core.frame.DataFrame'>\n",
      "RangeIndex: 5572 entries, 0 to 5571\n",
      "Data columns (total 2 columns):\n",
      " #   Column   Non-Null Count  Dtype \n",
      "---  ------   --------------  ----- \n",
      " 0   label    5572 non-null   object\n",
      " 1   message  5572 non-null   object\n",
      "dtypes: object(2)\n",
      "memory usage: 87.2+ KB\n"
     ]
    }
   ],
   "source": [
    "df.info()"
   ]
  },
  {
   "cell_type": "markdown",
   "id": "5d046e10",
   "metadata": {},
   "source": [
    "### Shape of dataset"
   ]
  },
  {
   "cell_type": "code",
   "execution_count": 5,
   "id": "4eb772ea",
   "metadata": {},
   "outputs": [
    {
     "data": {
      "text/plain": [
       "(5572, 2)"
      ]
     },
     "execution_count": 5,
     "metadata": {},
     "output_type": "execute_result"
    }
   ],
   "source": [
    "df.shape"
   ]
  },
  {
   "cell_type": "markdown",
   "id": "f59c659a",
   "metadata": {},
   "source": [
    "### Columns Data type"
   ]
  },
  {
   "cell_type": "code",
   "execution_count": 6,
   "id": "5059f494",
   "metadata": {},
   "outputs": [
    {
     "data": {
      "text/plain": [
       "label      object\n",
       "message    object\n",
       "dtype: object"
      ]
     },
     "execution_count": 6,
     "metadata": {},
     "output_type": "execute_result"
    }
   ],
   "source": [
    "df.dtypes"
   ]
  },
  {
   "cell_type": "markdown",
   "id": "0abc8324",
   "metadata": {},
   "source": [
    "### Columns in dataset"
   ]
  },
  {
   "cell_type": "code",
   "execution_count": 7,
   "id": "2b5b2b5c",
   "metadata": {},
   "outputs": [
    {
     "data": {
      "text/plain": [
       "Index(['label', 'message'], dtype='object')"
      ]
     },
     "execution_count": 7,
     "metadata": {},
     "output_type": "execute_result"
    }
   ],
   "source": [
    "df.columns"
   ]
  },
  {
   "cell_type": "markdown",
   "id": "5dec66a0",
   "metadata": {},
   "source": [
    "### Null values in dataset"
   ]
  },
  {
   "cell_type": "code",
   "execution_count": 8,
   "id": "54d4d6c3",
   "metadata": {},
   "outputs": [
    {
     "data": {
      "text/plain": [
       "label      0\n",
       "message    0\n",
       "dtype: int64"
      ]
     },
     "execution_count": 8,
     "metadata": {},
     "output_type": "execute_result"
    }
   ],
   "source": [
    "df.isna().sum()"
   ]
  },
  {
   "cell_type": "markdown",
   "id": "d72a9190",
   "metadata": {},
   "source": [
    "### First 5 rows of dataset"
   ]
  },
  {
   "cell_type": "code",
   "execution_count": 9,
   "id": "d0e1b661",
   "metadata": {},
   "outputs": [
    {
     "data": {
      "text/html": [
       "<div>\n",
       "<style scoped>\n",
       "    .dataframe tbody tr th:only-of-type {\n",
       "        vertical-align: middle;\n",
       "    }\n",
       "\n",
       "    .dataframe tbody tr th {\n",
       "        vertical-align: top;\n",
       "    }\n",
       "\n",
       "    .dataframe thead th {\n",
       "        text-align: right;\n",
       "    }\n",
       "</style>\n",
       "<table border=\"1\" class=\"dataframe\">\n",
       "  <thead>\n",
       "    <tr style=\"text-align: right;\">\n",
       "      <th></th>\n",
       "      <th>label</th>\n",
       "      <th>message</th>\n",
       "    </tr>\n",
       "  </thead>\n",
       "  <tbody>\n",
       "    <tr>\n",
       "      <th>0</th>\n",
       "      <td>ham</td>\n",
       "      <td>Go until jurong point, crazy.. Available only ...</td>\n",
       "    </tr>\n",
       "    <tr>\n",
       "      <th>1</th>\n",
       "      <td>ham</td>\n",
       "      <td>Ok lar... Joking wif u oni...</td>\n",
       "    </tr>\n",
       "    <tr>\n",
       "      <th>2</th>\n",
       "      <td>spam</td>\n",
       "      <td>Free entry in 2 a wkly comp to win FA Cup fina...</td>\n",
       "    </tr>\n",
       "    <tr>\n",
       "      <th>3</th>\n",
       "      <td>ham</td>\n",
       "      <td>U dun say so early hor... U c already then say...</td>\n",
       "    </tr>\n",
       "    <tr>\n",
       "      <th>4</th>\n",
       "      <td>ham</td>\n",
       "      <td>Nah I don't think he goes to usf, he lives aro...</td>\n",
       "    </tr>\n",
       "  </tbody>\n",
       "</table>\n",
       "</div>"
      ],
      "text/plain": [
       "  label                                            message\n",
       "0   ham  Go until jurong point, crazy.. Available only ...\n",
       "1   ham                      Ok lar... Joking wif u oni...\n",
       "2  spam  Free entry in 2 a wkly comp to win FA Cup fina...\n",
       "3   ham  U dun say so early hor... U c already then say...\n",
       "4   ham  Nah I don't think he goes to usf, he lives aro..."
      ]
     },
     "execution_count": 9,
     "metadata": {},
     "output_type": "execute_result"
    }
   ],
   "source": [
    "df.head()"
   ]
  },
  {
   "cell_type": "markdown",
   "id": "038587f3",
   "metadata": {},
   "source": [
    "* ham -- No Spam message\n",
    "* spam -- spam message"
   ]
  },
  {
   "cell_type": "markdown",
   "id": "76b5339e",
   "metadata": {},
   "source": [
    "### Count of spam and ham SMS in dataset"
   ]
  },
  {
   "cell_type": "code",
   "execution_count": 10,
   "id": "5752cbd8",
   "metadata": {},
   "outputs": [
    {
     "data": {
      "image/png": "[encoded data removed]",
      "text/plain": [
       "<Figure size 864x432 with 2 Axes>"
      ]
     },
     "metadata": {
      "needs_background": "light"
     },
     "output_type": "display_data"
    }
   ],
   "source": [
    "plt.figure(figsize=(12, 6))\n",
    "plt.subplot(1, 2, 1)\n",
    "sns.countplot(data=df,x='label')\n",
    "plt.title('Count of ham and spam message')\n",
    "plt.subplot(1, 2, 2);\n",
    "plt.title('Proportion of ham and spam message')\n",
    "plt.pie(df[['label']].value_counts(),labels=['ham','spam'],autopct='%.0f%%',colors=sns.color_palette('Set1')[:2]);"
   ]
  },
  {
   "cell_type": "markdown",
   "id": "d3380ede",
   "metadata": {},
   "source": [
    "* Dataset is imbalance since num of spam messages are less then ham messages"
   ]
  },
  {
   "cell_type": "markdown",
   "id": "29a3a9f4",
   "metadata": {},
   "source": [
    "## Feature Engineering"
   ]
  },
  {
   "cell_type": "markdown",
   "id": "af88e56c",
   "metadata": {},
   "source": [
    "* Handling imbalanced dataset using Oversampling\n",
    "* Creating new features e.g. word_count, contains_currency_symbol, contains_numbers, etc."
   ]
  },
  {
   "cell_type": "code",
   "execution_count": 11,
   "id": "fabaff12",
   "metadata": {},
   "outputs": [],
   "source": [
    "spam_sms = df[df['label']=='spam']"
   ]
  },
  {
   "cell_type": "code",
   "execution_count": 12,
   "id": "2373796a",
   "metadata": {},
   "outputs": [
    {
     "name": "stdout",
     "output_type": "stream",
     "text": [
      "Number of Spam records: 747\n",
      "Number of Ham records:  4825\n"
     ]
    }
   ],
   "source": [
    "print('Number of Spam records:',spam_sms.shape[0])\n",
    "print('Number of Ham records: ',df.shape[0]-spam_sms.shape[0])"
   ]
  },
  {
   "cell_type": "code",
   "execution_count": 13,
   "id": "a69c8648",
   "metadata": {},
   "outputs": [
    {
     "data": {
      "text/plain": [
       "(9307, 2)"
      ]
     },
     "execution_count": 13,
     "metadata": {},
     "output_type": "execute_result"
    }
   ],
   "source": [
    "# Oversampling\n",
    "count = int((df.shape[0]-spam_sms.shape[0])/spam_sms.shape[0])\n",
    "for i in range(0, count-1):\n",
    "    df = pd.concat([df, spam_sms])\n",
    "\n",
    "df.shape"
   ]
  },
  {
   "cell_type": "code",
   "execution_count": 14,
   "id": "2fe679fb",
   "metadata": {},
   "outputs": [
    {
     "data": {
      "image/png": "[encoded data removed]",
      "text/plain": [
       "<Figure size 864x432 with 2 Axes>"
      ]
     },
     "metadata": {
      "needs_background": "light"
     },
     "output_type": "display_data"
    }
   ],
   "source": [
    "plt.figure(figsize=(12, 6))\n",
    "plt.subplot(1, 2, 1)\n",
    "sns.countplot(data=df,x='label')\n",
    "plt.title('Count of ham and spam message')\n",
    "plt.subplot(1, 2, 2);\n",
    "plt.title('Proportion of ham and spam message')\n",
    "plt.pie(df[['label']].value_counts(),labels=['ham','spam'],autopct='%.0f%%',colors=sns.color_palette('Set1')[:2]);"
   ]
  },
  {
   "cell_type": "markdown",
   "id": "b92d0335",
   "metadata": {},
   "source": [
    "### Adding new column word_count for count of words in each message"
   ]
  },
  {
   "cell_type": "code",
   "execution_count": 15,
   "id": "97c3f5ff",
   "metadata": {},
   "outputs": [],
   "source": [
    "df['word_count'] = df['message'].apply(lambda x: len(x.split()))"
   ]
  },
  {
   "cell_type": "markdown",
   "id": "36a4dec9",
   "metadata": {},
   "source": [
    "### Distribution of number of words in each sms"
   ]
  },
  {
   "cell_type": "code",
   "execution_count": 16,
   "id": "14a07629",
   "metadata": {},
   "outputs": [
    {
     "data": {
      "image/png": "[encoded data removed]",
      "text/plain": [
       "<Figure size 864x432 with 2 Axes>"
      ]
     },
     "metadata": {
      "needs_background": "light"
     },
     "output_type": "display_data"
    }
   ],
   "source": [
    "plt.figure(figsize=(12, 6))\n",
    "\n",
    "plt.subplot(1, 2, 1);\n",
    "sns.distplot(a=df[df['label']=='ham'].word_count);\n",
    "plt.title('Distribution of word_count in Ham sms');\n",
    "\n",
    "plt.subplot(1, 2, 2);\n",
    "sns.distplot(a=df[df['label']=='spam'].word_count);\n",
    "plt.title('Distribution of word_count in Spam sms');\n",
    "\n"
   ]
  },
  {
   "cell_type": "markdown",
   "id": "d42fc423",
   "metadata": {},
   "source": [
    "* In ham sms most of the sms contain words in range of 5 - 50 words\n",
    "* In spam sms most of the sms contain words in range of 20 - 30 words"
   ]
  },
  {
   "cell_type": "markdown",
   "id": "568ba92f",
   "metadata": {},
   "source": [
    "### Adding column to count currency symbol in sms"
   ]
  },
  {
   "cell_type": "code",
   "execution_count": 17,
   "id": "ffca674e",
   "metadata": {},
   "outputs": [],
   "source": [
    "def is_currency(txt):\n",
    "    currency_symbols = ['€', '$', '¥', '£', '₹']\n",
    "    for i in currency_symbols:\n",
    "        if i in txt:\n",
    "            return 1\n",
    "    return 0"
   ]
  },
  {
   "cell_type": "code",
   "execution_count": 18,
   "id": "38f39b42",
   "metadata": {},
   "outputs": [],
   "source": [
    "df['currency_symbol'] = df['message'].apply(is_currency)"
   ]
  },
  {
   "cell_type": "markdown",
   "id": "0e63556b",
   "metadata": {},
   "source": [
    "### Adding column to count currency symbol in sms"
   ]
  },
  {
   "cell_type": "code",
   "execution_count": 19,
   "id": "a865ce20",
   "metadata": {},
   "outputs": [],
   "source": [
    "def is_number(x):\n",
    "    for i in x:\n",
    "        if ord(i)>=48 and ord(i)<=57:\n",
    "            return 1\n",
    "    return 0"
   ]
  },
  {
   "cell_type": "code",
   "execution_count": 21,
   "id": "146339d2",
   "metadata": {},
   "outputs": [],
   "source": [
    "df['number'] = df['message'].apply(is_number)"
   ]
  },
  {
   "cell_type": "markdown",
   "id": "aa57b9e5",
   "metadata": {},
   "source": [
    "### Plot for message with and without number and currency symbol"
   ]
  },
  {
   "cell_type": "code",
   "execution_count": 22,
   "id": "3f7c794d",
   "metadata": {},
   "outputs": [],
   "source": [
    "curr_sym = df[['label','currency_symbol','number']]"
   ]
  },
  {
   "cell_type": "code",
   "execution_count": 23,
   "id": "dd9b5cf9",
   "metadata": {},
   "outputs": [
    {
     "data": {
      "text/html": [
       "<div>\n",
       "<style scoped>\n",
       "    .dataframe tbody tr th:only-of-type {\n",
       "        vertical-align: middle;\n",
       "    }\n",
       "\n",
       "    .dataframe tbody tr th {\n",
       "        vertical-align: top;\n",
       "    }\n",
       "\n",
       "    .dataframe thead th {\n",
       "        text-align: right;\n",
       "    }\n",
       "</style>\n",
       "<table border=\"1\" class=\"dataframe\">\n",
       "  <thead>\n",
       "    <tr style=\"text-align: right;\">\n",
       "      <th></th>\n",
       "      <th>label</th>\n",
       "      <th>currency_symbol</th>\n",
       "      <th>number</th>\n",
       "    </tr>\n",
       "  </thead>\n",
       "  <tbody>\n",
       "    <tr>\n",
       "      <th>0</th>\n",
       "      <td>ham</td>\n",
       "      <td>0</td>\n",
       "      <td>0</td>\n",
       "    </tr>\n",
       "    <tr>\n",
       "      <th>1</th>\n",
       "      <td>ham</td>\n",
       "      <td>0</td>\n",
       "      <td>0</td>\n",
       "    </tr>\n",
       "    <tr>\n",
       "      <th>2</th>\n",
       "      <td>spam</td>\n",
       "      <td>0</td>\n",
       "      <td>1</td>\n",
       "    </tr>\n",
       "    <tr>\n",
       "      <th>3</th>\n",
       "      <td>ham</td>\n",
       "      <td>0</td>\n",
       "      <td>0</td>\n",
       "    </tr>\n",
       "    <tr>\n",
       "      <th>4</th>\n",
       "      <td>ham</td>\n",
       "      <td>0</td>\n",
       "      <td>0</td>\n",
       "    </tr>\n",
       "    <tr>\n",
       "      <th>...</th>\n",
       "      <td>...</td>\n",
       "      <td>...</td>\n",
       "      <td>...</td>\n",
       "    </tr>\n",
       "    <tr>\n",
       "      <th>5537</th>\n",
       "      <td>spam</td>\n",
       "      <td>0</td>\n",
       "      <td>1</td>\n",
       "    </tr>\n",
       "    <tr>\n",
       "      <th>5540</th>\n",
       "      <td>spam</td>\n",
       "      <td>1</td>\n",
       "      <td>1</td>\n",
       "    </tr>\n",
       "    <tr>\n",
       "      <th>5547</th>\n",
       "      <td>spam</td>\n",
       "      <td>0</td>\n",
       "      <td>1</td>\n",
       "    </tr>\n",
       "    <tr>\n",
       "      <th>5566</th>\n",
       "      <td>spam</td>\n",
       "      <td>0</td>\n",
       "      <td>1</td>\n",
       "    </tr>\n",
       "    <tr>\n",
       "      <th>5567</th>\n",
       "      <td>spam</td>\n",
       "      <td>1</td>\n",
       "      <td>1</td>\n",
       "    </tr>\n",
       "  </tbody>\n",
       "</table>\n",
       "<p>9307 rows × 3 columns</p>\n",
       "</div>"
      ],
      "text/plain": [
       "     label  currency_symbol  number\n",
       "0      ham                0       0\n",
       "1      ham                0       0\n",
       "2     spam                0       1\n",
       "3      ham                0       0\n",
       "4      ham                0       0\n",
       "...    ...              ...     ...\n",
       "5537  spam                0       1\n",
       "5540  spam                1       1\n",
       "5547  spam                0       1\n",
       "5566  spam                0       1\n",
       "5567  spam                1       1\n",
       "\n",
       "[9307 rows x 3 columns]"
      ]
     },
     "execution_count": 23,
     "metadata": {},
     "output_type": "execute_result"
    }
   ],
   "source": [
    "curr_sym"
   ]
  },
  {
   "cell_type": "code",
   "execution_count": 24,
   "id": "2fdb5ae3",
   "metadata": {},
   "outputs": [
    {
     "data": {
      "image/png": "[encoded data removed]",
      "text/plain": [
       "<Figure size 720x432 with 2 Axes>"
      ]
     },
     "metadata": {
      "needs_background": "light"
     },
     "output_type": "display_data"
    }
   ],
   "source": [
    "plt.figure(figsize=(10,6))\n",
    "plt.subplot(1, 2, 1)\n",
    "sns.countplot(x='number', data=curr_sym, hue='label')\n",
    "plt.title('Countplot for numbers in SMS')\n",
    "plt.xlabel('Do SMS contain numbers?')\n",
    "plt.ylabel('Count')\n",
    "plt.legend(labels=['Ham', 'Spam'])\n",
    "plt.subplot(1, 2, 2)\n",
    "sns.countplot(x='currency_symbol', data=curr_sym, hue='label')\n",
    "plt.title('Countplot for currency_symbol in SMS')\n",
    "plt.xlabel('Do SMS contain currency_symbol ?')\n",
    "plt.ylabel('Count')\n",
    "plt.legend(labels=['Ham', 'Spam'])\n",
    "plt.tight_layout()"
   ]
  },
  {
   "cell_type": "markdown",
   "id": "22e08fd0",
   "metadata": {},
   "source": [
    "* A very few ham SMS contains number\n",
    "* Most Spam sms contains numbers\n",
    "\n",
    "---------------------------------\n",
    "* No ham sms contains currency symbols\n",
    "* Spam message may or may not contains currency symbol"
   ]
  },
  {
   "cell_type": "markdown",
   "id": "6ec73e53",
   "metadata": {},
   "source": [
    "## Data Cleaning"
   ]
  },
  {
   "cell_type": "code",
   "execution_count": 25,
   "id": "752303eb",
   "metadata": {},
   "outputs": [],
   "source": [
    "# Creating a copy of dataset\n",
    "df_new = df.copy()"
   ]
  },
  {
   "cell_type": "markdown",
   "id": "7e88b2cb",
   "metadata": {},
   "source": [
    "### Removing special character and numbers"
   ]
  },
  {
   "cell_type": "code",
   "execution_count": 26,
   "id": "7849c996",
   "metadata": {},
   "outputs": [],
   "source": [
    "df_new.reset_index(drop=True,inplace=True)"
   ]
  },
  {
   "cell_type": "code",
   "execution_count": 27,
   "id": "0bb4740b",
   "metadata": {},
   "outputs": [],
   "source": [
    "# function for cleaning text\n",
    "def clean(text):\n",
    "    cleaned = re.compile(r'<.*?>')\n",
    "    return re.sub(cleaned,'',text)\n",
    "\n",
    "def is_special(text):\n",
    "    rem = ''\n",
    "    for i in text:\n",
    "        if i.isalnum():\n",
    "            rem = rem + i\n",
    "        else:\n",
    "            rem = rem + ' '\n",
    "    return rem"
   ]
  },
  {
   "cell_type": "code",
   "execution_count": 28,
   "id": "ca649975",
   "metadata": {},
   "outputs": [],
   "source": [
    "df_new['message'] = df_new['message'].apply(clean)"
   ]
  },
  {
   "cell_type": "code",
   "execution_count": 29,
   "id": "018fd004",
   "metadata": {},
   "outputs": [],
   "source": [
    "df_new['message'] = df_new['message'].apply(is_special)"
   ]
  },
  {
   "cell_type": "markdown",
   "id": "af3892e3",
   "metadata": {},
   "source": [
    "### Change text to lower case"
   ]
  },
  {
   "cell_type": "code",
   "execution_count": 30,
   "id": "ca0ae085",
   "metadata": {},
   "outputs": [],
   "source": [
    "df_new['message'] = df_new['message'].apply(lambda text:text.lower())"
   ]
  },
  {
   "cell_type": "markdown",
   "id": "fb5ea12f",
   "metadata": {},
   "source": [
    "### Removing the stop words"
   ]
  },
  {
   "cell_type": "code",
   "execution_count": 31,
   "id": "5ba42a60",
   "metadata": {},
   "outputs": [],
   "source": [
    "stop_words = set(stopwords.words('english'))\n",
    "def rem_stopwords(text,stopword_list=stop_words):\n",
    "    for w in text:\n",
    "        if w in stopword_list:\n",
    "            text.replace(w,'')\n",
    "    return text"
   ]
  },
  {
   "cell_type": "code",
   "execution_count": 32,
   "id": "f4220893",
   "metadata": {},
   "outputs": [],
   "source": [
    "df_new['message'] = df_new['message'].apply(rem_stopwords)"
   ]
  },
  {
   "cell_type": "markdown",
   "id": "c5e2252d",
   "metadata": {},
   "source": [
    "###  Lemmatizing the words"
   ]
  },
  {
   "cell_type": "code",
   "execution_count": 33,
   "id": "f56eb87d",
   "metadata": {},
   "outputs": [
    {
     "name": "stderr",
     "output_type": "stream",
     "text": [
      "[nltk_data] Downloading package wordnet to\n",
      "[nltk_data]     C:\\Users\\OMJI\\AppData\\Roaming\\nltk_data...\n",
      "[nltk_data]   Package wordnet is already up-to-date!\n",
      "[nltk_data] Downloading package omw-1.4 to\n",
      "[nltk_data]     C:\\Users\\OMJI\\AppData\\Roaming\\nltk_data...\n",
      "[nltk_data]   Package omw-1.4 is already up-to-date!\n"
     ]
    },
    {
     "data": {
      "text/plain": [
       "True"
      ]
     },
     "execution_count": 33,
     "metadata": {},
     "output_type": "execute_result"
    }
   ],
   "source": [
    "nltk.download('wordnet')\n",
    "nltk.download('omw-1.4')"
   ]
  },
  {
   "cell_type": "code",
   "execution_count": 34,
   "id": "964182b0",
   "metadata": {},
   "outputs": [],
   "source": [
    "def lemma_word(text):\n",
    "    lem = WordNetLemmatizer()\n",
    "    for w in text:\n",
    "        text.replace(w,lem.lemmatize(w,\"v\"))\n",
    "    return text"
   ]
  },
  {
   "cell_type": "code",
   "execution_count": 35,
   "id": "411dc440",
   "metadata": {},
   "outputs": [],
   "source": [
    "df_new['lemmatize_message']=df_new['message'].apply(lemma_word)"
   ]
  },
  {
   "cell_type": "code",
   "execution_count": 36,
   "id": "3535beff",
   "metadata": {},
   "outputs": [
    {
     "data": {
      "text/html": [
       "<div>\n",
       "<style scoped>\n",
       "    .dataframe tbody tr th:only-of-type {\n",
       "        vertical-align: middle;\n",
       "    }\n",
       "\n",
       "    .dataframe tbody tr th {\n",
       "        vertical-align: top;\n",
       "    }\n",
       "\n",
       "    .dataframe thead th {\n",
       "        text-align: right;\n",
       "    }\n",
       "</style>\n",
       "<table border=\"1\" class=\"dataframe\">\n",
       "  <thead>\n",
       "    <tr style=\"text-align: right;\">\n",
       "      <th></th>\n",
       "      <th>label</th>\n",
       "      <th>message</th>\n",
       "      <th>word_count</th>\n",
       "      <th>currency_symbol</th>\n",
       "      <th>number</th>\n",
       "      <th>lemmatize_message</th>\n",
       "    </tr>\n",
       "  </thead>\n",
       "  <tbody>\n",
       "    <tr>\n",
       "      <th>0</th>\n",
       "      <td>ham</td>\n",
       "      <td>go until jurong point  crazy   available only ...</td>\n",
       "      <td>20</td>\n",
       "      <td>0</td>\n",
       "      <td>0</td>\n",
       "      <td>go until jurong point  crazy   available only ...</td>\n",
       "    </tr>\n",
       "    <tr>\n",
       "      <th>1</th>\n",
       "      <td>ham</td>\n",
       "      <td>ok lar    joking wif u oni</td>\n",
       "      <td>6</td>\n",
       "      <td>0</td>\n",
       "      <td>0</td>\n",
       "      <td>ok lar    joking wif u oni</td>\n",
       "    </tr>\n",
       "    <tr>\n",
       "      <th>2</th>\n",
       "      <td>spam</td>\n",
       "      <td>free entry in 2 a wkly comp to win fa cup fina...</td>\n",
       "      <td>28</td>\n",
       "      <td>0</td>\n",
       "      <td>1</td>\n",
       "      <td>free entry in 2 a wkly comp to win fa cup fina...</td>\n",
       "    </tr>\n",
       "    <tr>\n",
       "      <th>3</th>\n",
       "      <td>ham</td>\n",
       "      <td>u dun say so early hor    u c already then say</td>\n",
       "      <td>11</td>\n",
       "      <td>0</td>\n",
       "      <td>0</td>\n",
       "      <td>u dun say so early hor    u c already then say</td>\n",
       "    </tr>\n",
       "    <tr>\n",
       "      <th>4</th>\n",
       "      <td>ham</td>\n",
       "      <td>nah i don t think he goes to usf  he lives aro...</td>\n",
       "      <td>13</td>\n",
       "      <td>0</td>\n",
       "      <td>0</td>\n",
       "      <td>nah i don t think he goes to usf  he lives aro...</td>\n",
       "    </tr>\n",
       "    <tr>\n",
       "      <th>...</th>\n",
       "      <td>...</td>\n",
       "      <td>...</td>\n",
       "      <td>...</td>\n",
       "      <td>...</td>\n",
       "      <td>...</td>\n",
       "      <td>...</td>\n",
       "    </tr>\n",
       "    <tr>\n",
       "      <th>9302</th>\n",
       "      <td>spam</td>\n",
       "      <td>want explicit sex in 30 secs  ring 02073162414...</td>\n",
       "      <td>16</td>\n",
       "      <td>0</td>\n",
       "      <td>1</td>\n",
       "      <td>want explicit sex in 30 secs  ring 02073162414...</td>\n",
       "    </tr>\n",
       "    <tr>\n",
       "      <th>9303</th>\n",
       "      <td>spam</td>\n",
       "      <td>asked 3mobile if 0870 chatlines inclu in free ...</td>\n",
       "      <td>33</td>\n",
       "      <td>1</td>\n",
       "      <td>1</td>\n",
       "      <td>asked 3mobile if 0870 chatlines inclu in free ...</td>\n",
       "    </tr>\n",
       "    <tr>\n",
       "      <th>9304</th>\n",
       "      <td>spam</td>\n",
       "      <td>had your contract mobile 11 mnths  latest moto...</td>\n",
       "      <td>28</td>\n",
       "      <td>0</td>\n",
       "      <td>1</td>\n",
       "      <td>had your contract mobile 11 mnths  latest moto...</td>\n",
       "    </tr>\n",
       "    <tr>\n",
       "      <th>9305</th>\n",
       "      <td>spam</td>\n",
       "      <td>reminder from o2  to get 2 50 pounds free call...</td>\n",
       "      <td>28</td>\n",
       "      <td>0</td>\n",
       "      <td>1</td>\n",
       "      <td>reminder from o2  to get 2 50 pounds free call...</td>\n",
       "    </tr>\n",
       "    <tr>\n",
       "      <th>9306</th>\n",
       "      <td>spam</td>\n",
       "      <td>this is the 2nd time we have tried 2 contact u...</td>\n",
       "      <td>30</td>\n",
       "      <td>1</td>\n",
       "      <td>1</td>\n",
       "      <td>this is the 2nd time we have tried 2 contact u...</td>\n",
       "    </tr>\n",
       "  </tbody>\n",
       "</table>\n",
       "<p>9307 rows × 6 columns</p>\n",
       "</div>"
      ],
      "text/plain": [
       "     label                                            message  word_count  \\\n",
       "0      ham  go until jurong point  crazy   available only ...          20   \n",
       "1      ham                      ok lar    joking wif u oni              6   \n",
       "2     spam  free entry in 2 a wkly comp to win fa cup fina...          28   \n",
       "3      ham  u dun say so early hor    u c already then say             11   \n",
       "4      ham  nah i don t think he goes to usf  he lives aro...          13   \n",
       "...    ...                                                ...         ...   \n",
       "9302  spam  want explicit sex in 30 secs  ring 02073162414...          16   \n",
       "9303  spam  asked 3mobile if 0870 chatlines inclu in free ...          33   \n",
       "9304  spam  had your contract mobile 11 mnths  latest moto...          28   \n",
       "9305  spam  reminder from o2  to get 2 50 pounds free call...          28   \n",
       "9306  spam  this is the 2nd time we have tried 2 contact u...          30   \n",
       "\n",
       "      currency_symbol  number  \\\n",
       "0                   0       0   \n",
       "1                   0       0   \n",
       "2                   0       1   \n",
       "3                   0       0   \n",
       "4                   0       0   \n",
       "...               ...     ...   \n",
       "9302                0       1   \n",
       "9303                1       1   \n",
       "9304                0       1   \n",
       "9305                0       1   \n",
       "9306                1       1   \n",
       "\n",
       "                                      lemmatize_message  \n",
       "0     go until jurong point  crazy   available only ...  \n",
       "1                         ok lar    joking wif u oni     \n",
       "2     free entry in 2 a wkly comp to win fa cup fina...  \n",
       "3     u dun say so early hor    u c already then say     \n",
       "4     nah i don t think he goes to usf  he lives aro...  \n",
       "...                                                 ...  \n",
       "9302  want explicit sex in 30 secs  ring 02073162414...  \n",
       "9303  asked 3mobile if 0870 chatlines inclu in free ...  \n",
       "9304  had your contract mobile 11 mnths  latest moto...  \n",
       "9305  reminder from o2  to get 2 50 pounds free call...  \n",
       "9306  this is the 2nd time we have tried 2 contact u...  \n",
       "\n",
       "[9307 rows x 6 columns]"
      ]
     },
     "execution_count": 36,
     "metadata": {},
     "output_type": "execute_result"
    }
   ],
   "source": [
    "df_new"
   ]
  },
  {
   "cell_type": "markdown",
   "id": "27a76695",
   "metadata": {},
   "source": [
    "## Data Preprocessing"
   ]
  },
  {
   "cell_type": "markdown",
   "id": "bae5aeda",
   "metadata": {},
   "source": [
    "### Replacing label ham - 0 and spam - 1"
   ]
  },
  {
   "cell_type": "code",
   "execution_count": 37,
   "id": "45269668",
   "metadata": {},
   "outputs": [],
   "source": [
    "df_new['label'] = df_new['label'].map({'ham': 0, 'spam': 1})"
   ]
  },
  {
   "cell_type": "markdown",
   "id": "fa480703",
   "metadata": {},
   "source": [
    "### Creating a bag of words model"
   ]
  },
  {
   "cell_type": "code",
   "execution_count": 38,
   "id": "7774f962",
   "metadata": {},
   "outputs": [],
   "source": [
    "tfidf = TfidfVectorizer(max_features=500)\n",
    "vectors = tfidf.fit_transform(df_new['lemmatize_message']).toarray()\n",
    "feature_names = tfidf.get_feature_names()"
   ]
  },
  {
   "cell_type": "code",
   "execution_count": 39,
   "id": "d1f5a18c",
   "metadata": {},
   "outputs": [
    {
     "data": {
      "text/plain": [
       "500"
      ]
     },
     "execution_count": 39,
     "metadata": {},
     "output_type": "execute_result"
    }
   ],
   "source": [
    "# Length of features\n",
    "len(feature_names)"
   ]
  },
  {
   "cell_type": "markdown",
   "id": "1779418c",
   "metadata": {},
   "source": [
    "### Splitting data input and output values"
   ]
  },
  {
   "cell_type": "code",
   "execution_count": 40,
   "id": "9cd3323a",
   "metadata": {},
   "outputs": [],
   "source": [
    "X = pd.DataFrame(vectors, columns=feature_names)\n",
    "y = df_new['label']"
   ]
  },
  {
   "cell_type": "code",
   "execution_count": 41,
   "id": "9e8f1590",
   "metadata": {},
   "outputs": [
    {
     "data": {
      "text/html": [
       "<div>\n",
       "<style scoped>\n",
       "    .dataframe tbody tr th:only-of-type {\n",
       "        vertical-align: middle;\n",
       "    }\n",
       "\n",
       "    .dataframe tbody tr th {\n",
       "        vertical-align: top;\n",
       "    }\n",
       "\n",
       "    .dataframe thead th {\n",
       "        text-align: right;\n",
       "    }\n",
       "</style>\n",
       "<table border=\"1\" class=\"dataframe\">\n",
       "  <thead>\n",
       "    <tr style=\"text-align: right;\">\n",
       "      <th></th>\n",
       "      <th>00</th>\n",
       "      <th>000</th>\n",
       "      <th>03</th>\n",
       "      <th>04</th>\n",
       "      <th>0800</th>\n",
       "      <th>08000839402</th>\n",
       "      <th>08000930705</th>\n",
       "      <th>10</th>\n",
       "      <th>100</th>\n",
       "      <th>1000</th>\n",
       "      <th>...</th>\n",
       "      <th>yeah</th>\n",
       "      <th>year</th>\n",
       "      <th>years</th>\n",
       "      <th>yes</th>\n",
       "      <th>yet</th>\n",
       "      <th>yo</th>\n",
       "      <th>you</th>\n",
       "      <th>your</th>\n",
       "      <th>yours</th>\n",
       "      <th>yr</th>\n",
       "    </tr>\n",
       "  </thead>\n",
       "  <tbody>\n",
       "    <tr>\n",
       "      <th>0</th>\n",
       "      <td>0.0</td>\n",
       "      <td>0.0</td>\n",
       "      <td>0.0</td>\n",
       "      <td>0.0</td>\n",
       "      <td>0.0</td>\n",
       "      <td>0.0</td>\n",
       "      <td>0.0</td>\n",
       "      <td>0.0</td>\n",
       "      <td>0.0</td>\n",
       "      <td>0.0</td>\n",
       "      <td>...</td>\n",
       "      <td>0.0</td>\n",
       "      <td>0.0</td>\n",
       "      <td>0.0</td>\n",
       "      <td>0.000000</td>\n",
       "      <td>0.0</td>\n",
       "      <td>0.0</td>\n",
       "      <td>0.0</td>\n",
       "      <td>0.000000</td>\n",
       "      <td>0.0</td>\n",
       "      <td>0.0</td>\n",
       "    </tr>\n",
       "    <tr>\n",
       "      <th>1</th>\n",
       "      <td>0.0</td>\n",
       "      <td>0.0</td>\n",
       "      <td>0.0</td>\n",
       "      <td>0.0</td>\n",
       "      <td>0.0</td>\n",
       "      <td>0.0</td>\n",
       "      <td>0.0</td>\n",
       "      <td>0.0</td>\n",
       "      <td>0.0</td>\n",
       "      <td>0.0</td>\n",
       "      <td>...</td>\n",
       "      <td>0.0</td>\n",
       "      <td>0.0</td>\n",
       "      <td>0.0</td>\n",
       "      <td>0.000000</td>\n",
       "      <td>0.0</td>\n",
       "      <td>0.0</td>\n",
       "      <td>0.0</td>\n",
       "      <td>0.000000</td>\n",
       "      <td>0.0</td>\n",
       "      <td>0.0</td>\n",
       "    </tr>\n",
       "    <tr>\n",
       "      <th>2</th>\n",
       "      <td>0.0</td>\n",
       "      <td>0.0</td>\n",
       "      <td>0.0</td>\n",
       "      <td>0.0</td>\n",
       "      <td>0.0</td>\n",
       "      <td>0.0</td>\n",
       "      <td>0.0</td>\n",
       "      <td>0.0</td>\n",
       "      <td>0.0</td>\n",
       "      <td>0.0</td>\n",
       "      <td>...</td>\n",
       "      <td>0.0</td>\n",
       "      <td>0.0</td>\n",
       "      <td>0.0</td>\n",
       "      <td>0.000000</td>\n",
       "      <td>0.0</td>\n",
       "      <td>0.0</td>\n",
       "      <td>0.0</td>\n",
       "      <td>0.000000</td>\n",
       "      <td>0.0</td>\n",
       "      <td>0.0</td>\n",
       "    </tr>\n",
       "    <tr>\n",
       "      <th>3</th>\n",
       "      <td>0.0</td>\n",
       "      <td>0.0</td>\n",
       "      <td>0.0</td>\n",
       "      <td>0.0</td>\n",
       "      <td>0.0</td>\n",
       "      <td>0.0</td>\n",
       "      <td>0.0</td>\n",
       "      <td>0.0</td>\n",
       "      <td>0.0</td>\n",
       "      <td>0.0</td>\n",
       "      <td>...</td>\n",
       "      <td>0.0</td>\n",
       "      <td>0.0</td>\n",
       "      <td>0.0</td>\n",
       "      <td>0.000000</td>\n",
       "      <td>0.0</td>\n",
       "      <td>0.0</td>\n",
       "      <td>0.0</td>\n",
       "      <td>0.000000</td>\n",
       "      <td>0.0</td>\n",
       "      <td>0.0</td>\n",
       "    </tr>\n",
       "    <tr>\n",
       "      <th>4</th>\n",
       "      <td>0.0</td>\n",
       "      <td>0.0</td>\n",
       "      <td>0.0</td>\n",
       "      <td>0.0</td>\n",
       "      <td>0.0</td>\n",
       "      <td>0.0</td>\n",
       "      <td>0.0</td>\n",
       "      <td>0.0</td>\n",
       "      <td>0.0</td>\n",
       "      <td>0.0</td>\n",
       "      <td>...</td>\n",
       "      <td>0.0</td>\n",
       "      <td>0.0</td>\n",
       "      <td>0.0</td>\n",
       "      <td>0.000000</td>\n",
       "      <td>0.0</td>\n",
       "      <td>0.0</td>\n",
       "      <td>0.0</td>\n",
       "      <td>0.000000</td>\n",
       "      <td>0.0</td>\n",
       "      <td>0.0</td>\n",
       "    </tr>\n",
       "    <tr>\n",
       "      <th>...</th>\n",
       "      <td>...</td>\n",
       "      <td>...</td>\n",
       "      <td>...</td>\n",
       "      <td>...</td>\n",
       "      <td>...</td>\n",
       "      <td>...</td>\n",
       "      <td>...</td>\n",
       "      <td>...</td>\n",
       "      <td>...</td>\n",
       "      <td>...</td>\n",
       "      <td>...</td>\n",
       "      <td>...</td>\n",
       "      <td>...</td>\n",
       "      <td>...</td>\n",
       "      <td>...</td>\n",
       "      <td>...</td>\n",
       "      <td>...</td>\n",
       "      <td>...</td>\n",
       "      <td>...</td>\n",
       "      <td>...</td>\n",
       "      <td>...</td>\n",
       "    </tr>\n",
       "    <tr>\n",
       "      <th>9302</th>\n",
       "      <td>0.0</td>\n",
       "      <td>0.0</td>\n",
       "      <td>0.0</td>\n",
       "      <td>0.0</td>\n",
       "      <td>0.0</td>\n",
       "      <td>0.0</td>\n",
       "      <td>0.0</td>\n",
       "      <td>0.0</td>\n",
       "      <td>0.0</td>\n",
       "      <td>0.0</td>\n",
       "      <td>...</td>\n",
       "      <td>0.0</td>\n",
       "      <td>0.0</td>\n",
       "      <td>0.0</td>\n",
       "      <td>0.000000</td>\n",
       "      <td>0.0</td>\n",
       "      <td>0.0</td>\n",
       "      <td>0.0</td>\n",
       "      <td>0.000000</td>\n",
       "      <td>0.0</td>\n",
       "      <td>0.0</td>\n",
       "    </tr>\n",
       "    <tr>\n",
       "      <th>9303</th>\n",
       "      <td>0.0</td>\n",
       "      <td>0.0</td>\n",
       "      <td>0.0</td>\n",
       "      <td>0.0</td>\n",
       "      <td>0.0</td>\n",
       "      <td>0.0</td>\n",
       "      <td>0.0</td>\n",
       "      <td>0.0</td>\n",
       "      <td>0.0</td>\n",
       "      <td>0.0</td>\n",
       "      <td>...</td>\n",
       "      <td>0.0</td>\n",
       "      <td>0.0</td>\n",
       "      <td>0.0</td>\n",
       "      <td>0.278886</td>\n",
       "      <td>0.0</td>\n",
       "      <td>0.0</td>\n",
       "      <td>0.0</td>\n",
       "      <td>0.000000</td>\n",
       "      <td>0.0</td>\n",
       "      <td>0.0</td>\n",
       "    </tr>\n",
       "    <tr>\n",
       "      <th>9304</th>\n",
       "      <td>0.0</td>\n",
       "      <td>0.0</td>\n",
       "      <td>0.0</td>\n",
       "      <td>0.0</td>\n",
       "      <td>0.0</td>\n",
       "      <td>0.0</td>\n",
       "      <td>0.0</td>\n",
       "      <td>0.0</td>\n",
       "      <td>0.0</td>\n",
       "      <td>0.0</td>\n",
       "      <td>...</td>\n",
       "      <td>0.0</td>\n",
       "      <td>0.0</td>\n",
       "      <td>0.0</td>\n",
       "      <td>0.245579</td>\n",
       "      <td>0.0</td>\n",
       "      <td>0.0</td>\n",
       "      <td>0.0</td>\n",
       "      <td>0.137569</td>\n",
       "      <td>0.0</td>\n",
       "      <td>0.0</td>\n",
       "    </tr>\n",
       "    <tr>\n",
       "      <th>9305</th>\n",
       "      <td>0.0</td>\n",
       "      <td>0.0</td>\n",
       "      <td>0.0</td>\n",
       "      <td>0.0</td>\n",
       "      <td>0.0</td>\n",
       "      <td>0.0</td>\n",
       "      <td>0.0</td>\n",
       "      <td>0.0</td>\n",
       "      <td>0.0</td>\n",
       "      <td>0.0</td>\n",
       "      <td>...</td>\n",
       "      <td>0.0</td>\n",
       "      <td>0.0</td>\n",
       "      <td>0.0</td>\n",
       "      <td>0.000000</td>\n",
       "      <td>0.0</td>\n",
       "      <td>0.0</td>\n",
       "      <td>0.0</td>\n",
       "      <td>0.131166</td>\n",
       "      <td>0.0</td>\n",
       "      <td>0.0</td>\n",
       "    </tr>\n",
       "    <tr>\n",
       "      <th>9306</th>\n",
       "      <td>0.0</td>\n",
       "      <td>0.0</td>\n",
       "      <td>0.0</td>\n",
       "      <td>0.0</td>\n",
       "      <td>0.0</td>\n",
       "      <td>0.0</td>\n",
       "      <td>0.0</td>\n",
       "      <td>0.0</td>\n",
       "      <td>0.0</td>\n",
       "      <td>0.0</td>\n",
       "      <td>...</td>\n",
       "      <td>0.0</td>\n",
       "      <td>0.0</td>\n",
       "      <td>0.0</td>\n",
       "      <td>0.000000</td>\n",
       "      <td>0.0</td>\n",
       "      <td>0.0</td>\n",
       "      <td>0.0</td>\n",
       "      <td>0.000000</td>\n",
       "      <td>0.0</td>\n",
       "      <td>0.0</td>\n",
       "    </tr>\n",
       "  </tbody>\n",
       "</table>\n",
       "<p>9307 rows × 500 columns</p>\n",
       "</div>"
      ],
      "text/plain": [
       "       00  000   03   04  0800  08000839402  08000930705   10  100  1000  ...  \\\n",
       "0     0.0  0.0  0.0  0.0   0.0          0.0          0.0  0.0  0.0   0.0  ...   \n",
       "1     0.0  0.0  0.0  0.0   0.0          0.0          0.0  0.0  0.0   0.0  ...   \n",
       "2     0.0  0.0  0.0  0.0   0.0          0.0          0.0  0.0  0.0   0.0  ...   \n",
       "3     0.0  0.0  0.0  0.0   0.0          0.0          0.0  0.0  0.0   0.0  ...   \n",
       "4     0.0  0.0  0.0  0.0   0.0          0.0          0.0  0.0  0.0   0.0  ...   \n",
       "...   ...  ...  ...  ...   ...          ...          ...  ...  ...   ...  ...   \n",
       "9302  0.0  0.0  0.0  0.0   0.0          0.0          0.0  0.0  0.0   0.0  ...   \n",
       "9303  0.0  0.0  0.0  0.0   0.0          0.0          0.0  0.0  0.0   0.0  ...   \n",
       "9304  0.0  0.0  0.0  0.0   0.0          0.0          0.0  0.0  0.0   0.0  ...   \n",
       "9305  0.0  0.0  0.0  0.0   0.0          0.0          0.0  0.0  0.0   0.0  ...   \n",
       "9306  0.0  0.0  0.0  0.0   0.0          0.0          0.0  0.0  0.0   0.0  ...   \n",
       "\n",
       "      yeah  year  years       yes  yet   yo  you      your  yours   yr  \n",
       "0      0.0   0.0    0.0  0.000000  0.0  0.0  0.0  0.000000    0.0  0.0  \n",
       "1      0.0   0.0    0.0  0.000000  0.0  0.0  0.0  0.000000    0.0  0.0  \n",
       "2      0.0   0.0    0.0  0.000000  0.0  0.0  0.0  0.000000    0.0  0.0  \n",
       "3      0.0   0.0    0.0  0.000000  0.0  0.0  0.0  0.000000    0.0  0.0  \n",
       "4      0.0   0.0    0.0  0.000000  0.0  0.0  0.0  0.000000    0.0  0.0  \n",
       "...    ...   ...    ...       ...  ...  ...  ...       ...    ...  ...  \n",
       "9302   0.0   0.0    0.0  0.000000  0.0  0.0  0.0  0.000000    0.0  0.0  \n",
       "9303   0.0   0.0    0.0  0.278886  0.0  0.0  0.0  0.000000    0.0  0.0  \n",
       "9304   0.0   0.0    0.0  0.245579  0.0  0.0  0.0  0.137569    0.0  0.0  \n",
       "9305   0.0   0.0    0.0  0.000000  0.0  0.0  0.0  0.131166    0.0  0.0  \n",
       "9306   0.0   0.0    0.0  0.000000  0.0  0.0  0.0  0.000000    0.0  0.0  \n",
       "\n",
       "[9307 rows x 500 columns]"
      ]
     },
     "execution_count": 41,
     "metadata": {},
     "output_type": "execute_result"
    }
   ],
   "source": [
    "X"
   ]
  },
  {
   "cell_type": "code",
   "execution_count": 42,
   "id": "fb0cd5f7",
   "metadata": {},
   "outputs": [
    {
     "data": {
      "text/plain": [
       "0       0\n",
       "1       0\n",
       "2       1\n",
       "3       0\n",
       "4       0\n",
       "       ..\n",
       "9302    1\n",
       "9303    1\n",
       "9304    1\n",
       "9305    1\n",
       "9306    1\n",
       "Name: label, Length: 9307, dtype: int64"
      ]
     },
     "execution_count": 42,
     "metadata": {},
     "output_type": "execute_result"
    }
   ],
   "source": [
    "y"
   ]
  },
  {
   "cell_type": "markdown",
   "id": "22d40a3f",
   "metadata": {},
   "source": [
    "### Split data into Train and Test"
   ]
  },
  {
   "cell_type": "code",
   "execution_count": 43,
   "id": "8c418ab3",
   "metadata": {},
   "outputs": [],
   "source": [
    "X_train, X_test, y_train, y_test = train_test_split(X, y, test_size=0.2, random_state=42)"
   ]
  },
  {
   "cell_type": "markdown",
   "id": "997bf13e",
   "metadata": {},
   "source": [
    "## ML Models Building and Evaluation"
   ]
  },
  {
   "cell_type": "markdown",
   "id": "42853e65",
   "metadata": {},
   "source": [
    "### Naive Bayes classifier for multinomial models."
   ]
  },
  {
   "cell_type": "code",
   "execution_count": 44,
   "id": "89e3c438",
   "metadata": {},
   "outputs": [],
   "source": [
    "mnb = MultinomialNB()"
   ]
  },
  {
   "cell_type": "code",
   "execution_count": 45,
   "id": "e92e181d",
   "metadata": {},
   "outputs": [
    {
     "data": {
      "text/plain": [
       "MultinomialNB()"
      ]
     },
     "execution_count": 45,
     "metadata": {},
     "output_type": "execute_result"
    }
   ],
   "source": [
    "# Model Training\n",
    "mnb.fit(X_train,y_train)"
   ]
  },
  {
   "cell_type": "markdown",
   "id": "73b4356d",
   "metadata": {},
   "source": [
    "### Naive Bayes Model Evaluation"
   ]
  },
  {
   "cell_type": "code",
   "execution_count": 46,
   "id": "fbb72a84",
   "metadata": {},
   "outputs": [],
   "source": [
    "\n",
    "def model_eval(clf, X_train, y_train, X_test, y_test, train_score=True):\n",
    "    if train_score:\n",
    "        pred = clf.predict(X_train)\n",
    "        clf_report = pd.DataFrame(classification_report(y_train, pred, output_dict=True))\n",
    "        print(\"Train Result:\\n================================================\")\n",
    "        print(f\"Accuracy Score: {accuracy_score(y_train, pred) * 100:.2f}%\")\n",
    "        print(\"_______________________________________________\")\n",
    "        print(f\"CLASSIFICATION REPORT:\\n{clf_report}\")\n",
    "        print(\"_______________________________________________\")\n",
    "        print(f\"Confusion Matrix: \\n {confusion_matrix(y_train, pred)}\\n\")\n",
    "        \n",
    "    elif train_score==False:\n",
    "        pred = clf.predict(X_test)\n",
    "        clf_report = pd.DataFrame(classification_report(y_test, pred, output_dict=True))\n",
    "        print(\"Test Result:\\n================================================\")        \n",
    "        print(f\"Accuracy Score: {accuracy_score(y_test, pred) * 100:.2f}%\")\n",
    "        print(\"_______________________________________________\")\n",
    "        print(f\"CLASSIFICATION REPORT:\\n{clf_report}\")\n",
    "        print(\"_______________________________________________\")\n",
    "        print(f\"Confusion Matrix: \\n {confusion_matrix(y_test, pred)}\\n\")"
   ]
  },
  {
   "cell_type": "markdown",
   "id": "243aad1b",
   "metadata": {},
   "source": [
    "#### Scores"
   ]
  },
  {
   "cell_type": "code",
   "execution_count": 47,
   "id": "862424ec",
   "metadata": {},
   "outputs": [
    {
     "name": "stdout",
     "output_type": "stream",
     "text": [
      "Train Result:\n",
      "================================================\n",
      "Accuracy Score: 95.72%\n",
      "_______________________________________________\n",
      "CLASSIFICATION REPORT:\n",
      "                     0            1  accuracy    macro avg  weighted avg\n",
      "precision     0.950013     0.965183  0.957152     0.957598      0.957305\n",
      "recall        0.968443     0.944957  0.957152     0.956700      0.957152\n",
      "f1-score      0.959139     0.954963  0.957152     0.957051      0.957131\n",
      "support    3866.000000  3579.000000  0.957152  7445.000000   7445.000000\n",
      "_______________________________________________\n",
      "Confusion Matrix: \n",
      " [[3744  122]\n",
      " [ 197 3382]]\n",
      "\n"
     ]
    }
   ],
   "source": [
    "# Train Scores\n",
    "model_eval(mnb, X_train, y_train, X_test, y_test, train_score=True)"
   ]
  },
  {
   "cell_type": "code",
   "execution_count": 48,
   "id": "19912aa7",
   "metadata": {},
   "outputs": [
    {
     "name": "stdout",
     "output_type": "stream",
     "text": [
      "Test Result:\n",
      "================================================\n",
      "Accuracy Score: 95.60%\n",
      "_______________________________________________\n",
      "CLASSIFICATION REPORT:\n",
      "                    0           1  accuracy    macro avg  weighted avg\n",
      "precision    0.944276    0.969143  0.955961     0.956709      0.956335\n",
      "recall       0.971846    0.939092  0.955961     0.955469      0.955961\n",
      "f1-score     0.957862    0.953881  0.955961     0.955872      0.955931\n",
      "support    959.000000  903.000000  0.955961  1862.000000   1862.000000\n",
      "_______________________________________________\n",
      "Confusion Matrix: \n",
      " [[932  27]\n",
      " [ 55 848]]\n",
      "\n"
     ]
    }
   ],
   "source": [
    "# Test Scores\n",
    "model_eval(mnb, X_train, y_train, X_test, y_test, train_score=False)"
   ]
  },
  {
   "cell_type": "markdown",
   "id": "c35c10fa",
   "metadata": {},
   "source": [
    "## Decision Tree Classifier Models"
   ]
  },
  {
   "cell_type": "code",
   "execution_count": 49,
   "id": "44a15345",
   "metadata": {},
   "outputs": [],
   "source": [
    "dtc = DecisionTreeClassifier()"
   ]
  },
  {
   "cell_type": "code",
   "execution_count": 50,
   "id": "f5c07e6c",
   "metadata": {},
   "outputs": [
    {
     "data": {
      "text/plain": [
       "DecisionTreeClassifier()"
      ]
     },
     "execution_count": 50,
     "metadata": {},
     "output_type": "execute_result"
    }
   ],
   "source": [
    "# Model Training\n",
    "dtc.fit(X_train,y_train)"
   ]
  },
  {
   "cell_type": "markdown",
   "id": "b0e719cf",
   "metadata": {},
   "source": [
    "### Model Evaluation Decision Tree"
   ]
  },
  {
   "cell_type": "code",
   "execution_count": 51,
   "id": "767dc1c1",
   "metadata": {},
   "outputs": [
    {
     "name": "stdout",
     "output_type": "stream",
     "text": [
      "Train Result:\n",
      "================================================\n",
      "Accuracy Score: 99.89%\n",
      "_______________________________________________\n",
      "CLASSIFICATION REPORT:\n",
      "                     0            1  accuracy    macro avg  weighted avg\n",
      "precision     0.997935     1.000000  0.998925     0.998967      0.998928\n",
      "recall        1.000000     0.997765  0.998925     0.998882      0.998925\n",
      "f1-score      0.998966     0.998881  0.998925     0.998924      0.998925\n",
      "support    3866.000000  3579.000000  0.998925  7445.000000   7445.000000\n",
      "_______________________________________________\n",
      "Confusion Matrix: \n",
      " [[3866    0]\n",
      " [   8 3571]]\n",
      "\n"
     ]
    }
   ],
   "source": [
    "# Train Scores\n",
    "model_eval(dtc, X_train, y_train, X_test, y_test, train_score=True)"
   ]
  },
  {
   "cell_type": "code",
   "execution_count": 52,
   "id": "5440f247",
   "metadata": {},
   "outputs": [
    {
     "name": "stdout",
     "output_type": "stream",
     "text": [
      "Test Result:\n",
      "================================================\n",
      "Accuracy Score: 98.07%\n",
      "_______________________________________________\n",
      "CLASSIFICATION REPORT:\n",
      "                    0           1  accuracy    macro avg  weighted avg\n",
      "precision    0.995704    0.965628  0.980666     0.980666      0.981118\n",
      "recall       0.966632    0.995570  0.980666     0.981101      0.980666\n",
      "f1-score     0.980952    0.980371  0.980666     0.980662      0.980670\n",
      "support    959.000000  903.000000  0.980666  1862.000000   1862.000000\n",
      "_______________________________________________\n",
      "Confusion Matrix: \n",
      " [[927  32]\n",
      " [  4 899]]\n",
      "\n"
     ]
    }
   ],
   "source": [
    "# Test Scores\n",
    "model_eval(dtc, X_train, y_train, X_test, y_test, train_score=False)"
   ]
  },
  {
   "cell_type": "markdown",
   "id": "7c993052",
   "metadata": {},
   "source": [
    "* Decision Tree is little Overfitting "
   ]
  },
  {
   "cell_type": "markdown",
   "id": "4792023c",
   "metadata": {},
   "source": [
    "## Random Forest Classifier "
   ]
  },
  {
   "cell_type": "code",
   "execution_count": 53,
   "id": "f29d54e1",
   "metadata": {},
   "outputs": [],
   "source": [
    "rfc = RandomForestClassifier(n_estimators=10)"
   ]
  },
  {
   "cell_type": "code",
   "execution_count": 54,
   "id": "facb97f0",
   "metadata": {},
   "outputs": [
    {
     "data": {
      "text/plain": [
       "RandomForestClassifier(n_estimators=10)"
      ]
     },
     "execution_count": 54,
     "metadata": {},
     "output_type": "execute_result"
    }
   ],
   "source": [
    "# Training Model\n",
    "rfc.fit(X_train, y_train)"
   ]
  },
  {
   "cell_type": "markdown",
   "id": "48ee1513",
   "metadata": {},
   "source": [
    "## Random Forest Classifier Model Evaluation "
   ]
  },
  {
   "cell_type": "code",
   "execution_count": 55,
   "id": "d4a94ba4",
   "metadata": {},
   "outputs": [
    {
     "name": "stdout",
     "output_type": "stream",
     "text": [
      "Train Result:\n",
      "================================================\n",
      "Accuracy Score: 99.89%\n",
      "_______________________________________________\n",
      "CLASSIFICATION REPORT:\n",
      "                     0            1  accuracy    macro avg  weighted avg\n",
      "precision     0.997935     1.000000  0.998925     0.998967      0.998928\n",
      "recall        1.000000     0.997765  0.998925     0.998882      0.998925\n",
      "f1-score      0.998966     0.998881  0.998925     0.998924      0.998925\n",
      "support    3866.000000  3579.000000  0.998925  7445.000000   7445.000000\n",
      "_______________________________________________\n",
      "Confusion Matrix: \n",
      " [[3866    0]\n",
      " [   8 3571]]\n",
      "\n"
     ]
    }
   ],
   "source": [
    "# Train Scores\n",
    "model_eval(rfc, X_train, y_train, X_test, y_test, train_score=True)"
   ]
  },
  {
   "cell_type": "code",
   "execution_count": 56,
   "id": "d8185c0b",
   "metadata": {},
   "outputs": [
    {
     "name": "stdout",
     "output_type": "stream",
     "text": [
      "Test Result:\n",
      "================================================\n",
      "Accuracy Score: 99.68%\n",
      "_______________________________________________\n",
      "CLASSIFICATION REPORT:\n",
      "                    0           1  accuracy    macro avg  weighted avg\n",
      "precision    0.995838    0.997780  0.996778     0.996809      0.996780\n",
      "recall       0.997914    0.995570  0.996778     0.996742      0.996778\n",
      "f1-score     0.996875    0.996674  0.996778     0.996775      0.996778\n",
      "support    959.000000  903.000000  0.996778  1862.000000   1862.000000\n",
      "_______________________________________________\n",
      "Confusion Matrix: \n",
      " [[957   2]\n",
      " [  4 899]]\n",
      "\n"
     ]
    }
   ],
   "source": [
    "# Test Scores\n",
    "model_eval(rfc, X_train, y_train, X_test, y_test, train_score=False)"
   ]
  },
  {
   "cell_type": "code",
   "execution_count": 57,
   "id": "7d76d743",
   "metadata": {},
   "outputs": [],
   "source": [
    "def comp_models(models,X_test,y_test):\n",
    "    scores = {'Model Name':[],'Accuracy':[]}\n",
    "    for name,model in models:\n",
    "        pred = model.predict(X_test)\n",
    "        scores['Model Name'].append(str(name)) \n",
    "        scores['Accuracy'].append(accuracy_score(y_test, pred)*100)\n",
    "        scores_df = pd.DataFrame(scores)\n",
    "        sns.barplot(data=scores_df,x='Model Name',y='Accuracy',)\n",
    "        plt.title('Models Accuracy Comparison')"
   ]
  },
  {
   "cell_type": "code",
   "execution_count": 58,
   "id": "2e94a497",
   "metadata": {},
   "outputs": [
    {
     "data": {
      "image/png": "[encoded data removed]",
      "text/plain": [
       "<Figure size 648x360 with 1 Axes>"
      ]
     },
     "metadata": {
      "needs_background": "light"
     },
     "output_type": "display_data"
    }
   ],
   "source": [
    "models =[('mnb',mnb),('dtc',dtc),('rfc',rfc)]\n",
    "comp_models(models,X_test,y_test)"
   ]
  },
  {
   "cell_type": "markdown",
   "id": "e490c05a",
   "metadata": {},
   "source": [
    "## Voting Classifier with Decision Tree and Random Forest Classifier"
   ]
  },
  {
   "cell_type": "code",
   "execution_count": 59,
   "id": "4e21bb60",
   "metadata": {},
   "outputs": [],
   "source": [
    "vc = VotingClassifier([('decision_tree', dtc), ('random_forest_classifier', rfc)], weights=[0.8,2])"
   ]
  },
  {
   "cell_type": "code",
   "execution_count": 60,
   "id": "c57a5572",
   "metadata": {},
   "outputs": [
    {
     "data": {
      "text/plain": [
       "VotingClassifier(estimators=[('decision_tree', DecisionTreeClassifier()),\n",
       "                             ('random_forest_classifier',\n",
       "                              RandomForestClassifier(n_estimators=10))],\n",
       "                 weights=[0.8, 2])"
      ]
     },
     "execution_count": 60,
     "metadata": {},
     "output_type": "execute_result"
    }
   ],
   "source": [
    "vc.fit(X_train,y_train)"
   ]
  },
  {
   "cell_type": "markdown",
   "id": "ea4eaaff",
   "metadata": {},
   "source": [
    "### Voting Classifier Evaluation"
   ]
  },
  {
   "cell_type": "code",
   "execution_count": 61,
   "id": "469eca9d",
   "metadata": {},
   "outputs": [
    {
     "name": "stdout",
     "output_type": "stream",
     "text": [
      "Train Result:\n",
      "================================================\n",
      "Accuracy Score: 99.89%\n",
      "_______________________________________________\n",
      "CLASSIFICATION REPORT:\n",
      "                     0            1  accuracy    macro avg  weighted avg\n",
      "precision     0.997935     1.000000  0.998925     0.998967      0.998928\n",
      "recall        1.000000     0.997765  0.998925     0.998882      0.998925\n",
      "f1-score      0.998966     0.998881  0.998925     0.998924      0.998925\n",
      "support    3866.000000  3579.000000  0.998925  7445.000000   7445.000000\n",
      "_______________________________________________\n",
      "Confusion Matrix: \n",
      " [[3866    0]\n",
      " [   8 3571]]\n",
      "\n"
     ]
    }
   ],
   "source": [
    "# Train Scores\n",
    "model_eval(vc, X_train, y_train, X_test, y_test, train_score=True)"
   ]
  },
  {
   "cell_type": "code",
   "execution_count": 62,
   "id": "e25dad9d",
   "metadata": {},
   "outputs": [
    {
     "name": "stdout",
     "output_type": "stream",
     "text": [
      "Test Result:\n",
      "================================================\n",
      "Accuracy Score: 99.73%\n",
      "_______________________________________________\n",
      "CLASSIFICATION REPORT:\n",
      "                    0           1  accuracy    macro avg  weighted avg\n",
      "precision    0.995842    0.998889  0.997315     0.997365      0.997320\n",
      "recall       0.998957    0.995570  0.997315     0.997264      0.997315\n",
      "f1-score     0.997397    0.997227  0.997315     0.997312      0.997315\n",
      "support    959.000000  903.000000  0.997315  1862.000000   1862.000000\n",
      "_______________________________________________\n",
      "Confusion Matrix: \n",
      " [[958   1]\n",
      " [  4 899]]\n",
      "\n"
     ]
    }
   ],
   "source": [
    "# Test Scores\n",
    "model_eval(vc, X_train, y_train, X_test, y_test, train_score=False)"
   ]
  },
  {
   "cell_type": "markdown",
   "id": "2b8553b2",
   "metadata": {},
   "source": [
    "### Comparing Models"
   ]
  },
  {
   "cell_type": "code",
   "execution_count": 63,
   "id": "8dc1b184",
   "metadata": {},
   "outputs": [
    {
     "data": {
      "image/png": "[encoded data removed]",
      "text/plain": [
       "<Figure size 648x360 with 1 Axes>"
      ]
     },
     "metadata": {
      "needs_background": "light"
     },
     "output_type": "display_data"
    }
   ],
   "source": [
    "models =[('mnb',mnb),('dtc',dtc),('rfc',rfc),('vc',vc)]\n",
    "comp_models(models,X_test,y_test)"
   ]
  },
  {
   "cell_type": "markdown",
   "id": "fec5f87b",
   "metadata": {},
   "source": [
    "* As we see a little improvemet with voting classifier\n",
    "* So we will be using voting classifier for prediction"
   ]
  },
  {
   "cell_type": "markdown",
   "id": "ff9bbaae",
   "metadata": {},
   "source": [
    "## Prediction with single SMS"
   ]
  },
  {
   "cell_type": "code",
   "execution_count": 64,
   "id": "afb416cf",
   "metadata": {},
   "outputs": [],
   "source": [
    "from sklearn.pipeline import Pipeline"
   ]
  },
  {
   "cell_type": "code",
   "execution_count": 65,
   "id": "536ae176",
   "metadata": {},
   "outputs": [],
   "source": [
    "def predict_spam(sms,model=vc):\n",
    "    message =  re.sub(pattern='[^a-zA-Z]',repl=' ', string = sms)\n",
    "    message = message.lower()\n",
    "    message_words = [word for word in message if not word in set(stopwords.words('english'))]\n",
    "    message_words = [WordNetLemmatizer.lemmatize(word,\"v\") for word in message_words]\n",
    "    message = ' '.join(message_words)\n",
    "    tfidf_bow = tfidf.transform([message]).toarray()\n",
    "    prediction = model.predict(tfidf_bow)\n",
    "    if prediction == 0:\n",
    "        return 'Ham'\n",
    "    else:\n",
    "        return 'Spam'\n",
    "    \n"
   ]
  },
  {
   "cell_type": "code",
   "execution_count": 66,
   "id": "009df010",
   "metadata": {},
   "outputs": [
    {
     "name": "stdout",
     "output_type": "stream",
     "text": [
      "Ham\n"
     ]
    }
   ],
   "source": [
    "print(predict_spam(df['message'][1]))"
   ]
  }
 ],
 "metadata": {
  "kernelspec": {
   "display_name": "Python 3 (ipykernel)",
   "language": "python",
   "name": "python3"
  },
  "language_info": {
   "codemirror_mode": {
    "name": "ipython",
    "version": 3
   },
   "file_extension": ".py",
   "mimetype": "text/x-python",
   "name": "python",
   "nbconvert_exporter": "python",
   "pygments_lexer": "ipython3",
   "version": "3.9.12"
  }
 },
 "nbformat": 4,
 "nbformat_minor": 5
}
